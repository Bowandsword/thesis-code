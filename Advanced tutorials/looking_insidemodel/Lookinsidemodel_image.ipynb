{
 "cells": [
  {
   "cell_type": "raw",
   "id": "d5a4e52c-fc29-4dcc-904f-ea8d2d834f20",
   "metadata": {},
   "source": [
    "This tutorial is to show readers how they can take a model and get it to take the slices inside the model and export them as images such that we can see what the model is focusing in on. \n",
    "\n",
    "This model does image classification but it can easily be swap to do regression just changing the blocks in the datablocks and you can use it for other uses taking the methods shown to modify other models to get this working in different use cases. \n",
    "\n",
    "More details can be found in section X here"
   ]
  },
  {
   "cell_type": "raw",
   "id": "f8516d77-7f84-4d12-ba6d-4aa94f03f132",
   "metadata": {},
   "source": [
    "First as always we must import the asorted packages "
   ]
  },
  {
   "cell_type": "code",
   "execution_count": 1,
   "id": "ecc8253d-ebc8-42d5-bb5a-62149701c775",
   "metadata": {
    "tags": []
   },
   "outputs": [
    {
     "name": "stderr",
     "output_type": "stream",
     "text": [
      "C:\\Users\\bowan\\anaconda3\\Lib\\site-packages\\pandas\\core\\arrays\\masked.py:60: UserWarning: Pandas requires version '1.3.6' or newer of 'bottleneck' (version '1.3.5' currently installed).\n",
      "  from pandas.core import (\n"
     ]
    }
   ],
   "source": [
    "import pandas as pd\n",
    "import os\n",
    "from fastai.vision.all import *\n",
    "import math"
   ]
  },
  {
   "cell_type": "raw",
   "id": "517d5bcb-eb1c-49b7-87f0-203e8333a909",
   "metadata": {},
   "source": [
    "We need to then check if you have a dataset to work with, I've provided some code to randomly generate shapes as an example, and also set up f"
   ]
  },
  {
   "cell_type": "code",
   "execution_count": 13,
   "id": "b438dcc4-7cce-40de-a01c-ee4c96ce5261",
   "metadata": {},
   "outputs": [],
   "source": [
    "Image_path = '/images_assorted'\n",
    "\n",
    "if os.path.exists(Image_path):\n",
    "    print(\"The file exists.\")\n",
    "else:\n",
    "    %run Generating_basic_data.ipynb"
   ]
  },
  {
   "cell_type": "code",
   "execution_count": null,
   "id": "64003335-3838-4863-9719-7e434d1f9540",
   "metadata": {},
   "outputs": [],
   "source": [
    "output_folder = 'Node1'\n",
    "if not os.path.exists(output_folder):\n",
    "    os.makedirs(output_folder)\n",
    "    \n",
    "output_folder = 'Node2'\n",
    "if not os.path.exists(output_folder):\n",
    "    os.makedirs(output_folder)\n",
    "    \n",
    "output_folder = 'Node3'\n",
    "if not os.path.exists(output_folder):\n",
    "    os.makedirs(output_folder)"
   ]
  },
  {
   "cell_type": "raw",
   "id": "0ada96fc-f67f-43ec-8857-ebc76550a711",
   "metadata": {},
   "source": [
    "Next we load in the dataframe that organises the input data"
   ]
  },
  {
   "cell_type": "code",
   "execution_count": 2,
   "id": "44524514-fa19-49ad-a04d-ac4834f3de77",
   "metadata": {
    "tags": []
   },
   "outputs": [],
   "source": [
    "\n",
    "df = pd.read_csv('image_data_assorted.csv')"
   ]
  },
  {
   "cell_type": "code",
   "execution_count": 3,
   "id": "4281009b-63c9-40fe-b757-d4c9616529b7",
   "metadata": {
    "tags": []
   },
   "outputs": [
    {
     "data": {
      "text/html": [
       "<div>\n",
       "<style scoped>\n",
       "    .dataframe tbody tr th:only-of-type {\n",
       "        vertical-align: middle;\n",
       "    }\n",
       "\n",
       "    .dataframe tbody tr th {\n",
       "        vertical-align: top;\n",
       "    }\n",
       "\n",
       "    .dataframe thead th {\n",
       "        text-align: right;\n",
       "    }\n",
       "</style>\n",
       "<table border=\"1\" class=\"dataframe\">\n",
       "  <thead>\n",
       "    <tr style=\"text-align: right;\">\n",
       "      <th></th>\n",
       "      <th>Radius</th>\n",
       "      <th>X_Position</th>\n",
       "      <th>Y_Position</th>\n",
       "      <th>Area</th>\n",
       "      <th>Surface2d</th>\n",
       "      <th>Volume</th>\n",
       "      <th>image_path</th>\n",
       "      <th>mask_path</th>\n",
       "      <th>shape</th>\n",
       "    </tr>\n",
       "  </thead>\n",
       "  <tbody>\n",
       "    <tr>\n",
       "      <th>0</th>\n",
       "      <td>81</td>\n",
       "      <td>332</td>\n",
       "      <td>175</td>\n",
       "      <td>20602</td>\n",
       "      <td>254</td>\n",
       "      <td>2224966</td>\n",
       "      <td>images_assorted/image_1.png</td>\n",
       "      <td>masks_assorted/mask_1.png</td>\n",
       "      <td>circle</td>\n",
       "    </tr>\n",
       "    <tr>\n",
       "      <th>1</th>\n",
       "      <td>53</td>\n",
       "      <td>79</td>\n",
       "      <td>195</td>\n",
       "      <td>2809</td>\n",
       "      <td>212</td>\n",
       "      <td>148877</td>\n",
       "      <td>images_assorted/image_2.png</td>\n",
       "      <td>masks_assorted/mask_2.png</td>\n",
       "      <td>square</td>\n",
       "    </tr>\n",
       "    <tr>\n",
       "      <th>2</th>\n",
       "      <td>33</td>\n",
       "      <td>390</td>\n",
       "      <td>122</td>\n",
       "      <td>1089</td>\n",
       "      <td>132</td>\n",
       "      <td>35937</td>\n",
       "      <td>images_assorted/image_3.png</td>\n",
       "      <td>masks_assorted/mask_3.png</td>\n",
       "      <td>square</td>\n",
       "    </tr>\n",
       "    <tr>\n",
       "      <th>3</th>\n",
       "      <td>58</td>\n",
       "      <td>358</td>\n",
       "      <td>298</td>\n",
       "      <td>3364</td>\n",
       "      <td>232</td>\n",
       "      <td>195112</td>\n",
       "      <td>images_assorted/image_4.png</td>\n",
       "      <td>masks_assorted/mask_4.png</td>\n",
       "      <td>square</td>\n",
       "    </tr>\n",
       "    <tr>\n",
       "      <th>4</th>\n",
       "      <td>54</td>\n",
       "      <td>359</td>\n",
       "      <td>431</td>\n",
       "      <td>1458</td>\n",
       "      <td>184</td>\n",
       "      <td>157464</td>\n",
       "      <td>images_assorted/image_5.png</td>\n",
       "      <td>masks_assorted/mask_5.png</td>\n",
       "      <td>triange</td>\n",
       "    </tr>\n",
       "  </tbody>\n",
       "</table>\n",
       "</div>"
      ],
      "text/plain": [
       "   Radius  X_Position  Y_Position   Area  Surface2d   Volume  \\\n",
       "0      81         332         175  20602        254  2224966   \n",
       "1      53          79         195   2809        212   148877   \n",
       "2      33         390         122   1089        132    35937   \n",
       "3      58         358         298   3364        232   195112   \n",
       "4      54         359         431   1458        184   157464   \n",
       "\n",
       "                    image_path                  mask_path    shape  \n",
       "0  images_assorted/image_1.png  masks_assorted/mask_1.png   circle  \n",
       "1  images_assorted/image_2.png  masks_assorted/mask_2.png   square  \n",
       "2  images_assorted/image_3.png  masks_assorted/mask_3.png   square  \n",
       "3  images_assorted/image_4.png  masks_assorted/mask_4.png   square  \n",
       "4  images_assorted/image_5.png  masks_assorted/mask_5.png  triange  "
      ]
     },
     "execution_count": 3,
     "metadata": {},
     "output_type": "execute_result"
    }
   ],
   "source": [
    "df.head() # so you can see how its organised"
   ]
  },
  {
   "cell_type": "raw",
   "id": "708738cf-702c-4559-8d66-f969d5597fb6",
   "metadata": {},
   "source": [
    "As we are doing image classificatin we are just reusing the code for the basic classification tutorial "
   ]
  },
  {
   "cell_type": "code",
   "execution_count": 4,
   "id": "d36d46ef-cce5-4221-99f0-f5498bbc07e6",
   "metadata": {},
   "outputs": [],
   "source": [
    "def get_inputs(row):\n",
    "    # Convert image path to PILImage\n",
    "    image_path = row['image_path']\n",
    "    image_data = PILImage.create(image_path)\n",
    "    return image_data \n",
    "\n",
    "def get_target(row):\n",
    "    # Convert image path to PILImage\n",
    "    target_data = row['shape']\n",
    "    return target_data\n",
    "\n",
    "dblock = DataBlock(\n",
    "    blocks=(ImageBlock, CategoryBlock),  # Image input and auxiliary input\n",
    "    get_x=get_inputs,  # Get both the image path and the auxiliary input\n",
    "    get_y=get_target  # Get the radius value from the dataframe\n",
    "    #splitter=RandomSplitter(valid_pct=0.2, seed=42),  # Split into train and validation sets\n",
    "    #item_tfms=Resize(512)  # Resize images to 512x512\n",
    ")\n",
    "#os.chdir('..') # just moves directory where shared dataset is\n",
    "dls = dblock.dataloaders(df, bs=64)\n"
   ]
  },
  {
   "cell_type": "raw",
   "id": "f944a8d9-33b1-43be-997e-a4668871d4c4",
   "metadata": {},
   "source": [
    "We then want to check if the data is loaded in correctly "
   ]
  },
  {
   "cell_type": "code",
   "execution_count": 14,
   "id": "49d9db89-18fe-48ca-a267-c9f8c786f084",
   "metadata": {
    "tags": []
   },
   "outputs": [
    {
     "name": "stdout",
     "output_type": "stream",
     "text": [
      "torch.Size([64, 3, 512, 512])\n"
     ]
    },
    {
     "data": {
      "image/png": "[encoded data removed]",
      "text/plain": [
       "<Figure size 900x900 with 9 Axes>"
      ]
     },
     "metadata": {},
     "output_type": "display_data"
    }
   ],
   "source": [
    "batch = dls.one_batch()\n",
    "print(batch[0].shape)\n",
    "dls.show_batch()"
   ]
  },
  {
   "cell_type": "raw",
   "id": "ea52d8c3-6df7-4576-ba05-29af17143668",
   "metadata": {
    "tags": []
   },
   "source": []
  },
  {
   "cell_type": "raw",
   "id": "e9c2b413-8370-4008-9dc7-c2df0de7f1f8",
   "metadata": {
    "tags": []
   },
   "source": [
    "Now here is the complicated part \n",
    "\n",
    "I have provided two examples models taking a standard model Resnet model and modifiying it. (I asked a LLM to write it out by going can you write me a simple resnet model in a pytorch object)\n",
    "\n",
    "The first model at key points exports and image of the avergae of all its channels which gives a general idea of whats happening \n",
    "\n",
    "The second model instead will export each channel indicually which highlights (pun intended what each channel is doing)\n",
    "\n",
    "Set the model you want to use to code and the other to raw"
   ]
  },
  {
   "cell_type": "raw",
   "id": "dd8bef09-3cc2-4ee7-8858-24a7b4cd200c",
   "metadata": {},
   "source": [
    "What is actually changes from a regular model "
   ]
  },
  {
   "cell_type": "raw",
   "id": "39bed081-643c-47c4-8ad3-77ec726a30ca",
   "metadata": {},
   "source": [
    "\n",
    "x = self.layer1(x)\n",
    "self.save_feature_map(x, \"image_1.png\") # this \n",
    "x = self.layer2(x)\n",
    "self.save_feature_map(x, \"image_2.png\") # this\n",
    "x = self.layer3(x)\n",
    "self.save_feature_map(x, \"image_3.png\") # this\n",
    "x = self.layer4(x)\n",
    "\n",
    "This function takes the tensor x and sends it to a function that exports images of the tensor array. \n"
   ]
  },
  {
   "cell_type": "code",
   "execution_count": null,
   "id": "4b259432-a817-4b68-aea2-82f0ec1e765e",
   "metadata": {},
   "outputs": [],
   "source": []
  },
  {
   "cell_type": "raw",
   "id": "3528b03f-7352-4485-8b8d-430ed9729d39",
   "metadata": {
    "tags": []
   },
   "source": [
    "import torch\n",
    "import torch.nn as nn\n",
    "import torch.nn.functional as F\n",
    "from torchvision.models import resnet18\n",
    "\n",
    "class BasicBlock(nn.Module):\n",
    "    def __init__(self, in_channels, out_channels, stride=1):\n",
    "        super().__init__()\n",
    "        self.conv1 = nn.Conv2d(in_channels, out_channels, kernel_size=3, stride=stride, padding=1, bias=False)\n",
    "        self.bn1 = nn.BatchNorm2d(out_channels)\n",
    "        self.conv2 = nn.Conv2d(out_channels, out_channels, kernel_size=3, stride=1, padding=1, bias=False)\n",
    "        self.bn2 = nn.BatchNorm2d(out_channels)\n",
    "\n",
    "        self.shortcut = nn.Sequential()\n",
    "        if stride != 1 or in_channels != out_channels:\n",
    "            self.shortcut = nn.Sequential(\n",
    "                nn.Conv2d(in_channels, out_channels, kernel_size=1, stride=stride, bias=False),\n",
    "                nn.BatchNorm2d(out_channels)\n",
    "            )\n",
    "\n",
    "    def forward(self, x):\n",
    "        identity = self.shortcut(x)\n",
    "        x = F.relu(self.bn1(self.conv1(x)))\n",
    "        x = self.bn2(self.conv2(x))\n",
    "        x += identity\n",
    "        x = F.relu(x)\n",
    "        return x\n",
    "\n",
    "\n",
    "class ResNet18Custom(nn.Module):\n",
    "    def __init__(self, num_classes=3):\n",
    "        super().__init__()\n",
    "        self.in_channels = 64\n",
    "\n",
    "        # Initial convolution and pooling\n",
    "        self.conv1 = nn.Conv2d(3, 64, kernel_size=7, stride=2, padding=3, bias=False)\n",
    "        self.bn1 = nn.BatchNorm2d(64)\n",
    "        self.pool1 = nn.MaxPool2d(kernel_size=3, stride=2, padding=1)\n",
    "\n",
    "        # Residual blocks\n",
    "        self.layer1 = self._make_layer(64, 2, stride=1)\n",
    "        self.layer2 = self._make_layer(128, 2, stride=2)\n",
    "        self.layer3 = self._make_layer(256, 2, stride=2)\n",
    "        self.layer4 = self._make_layer(512, 2, stride=2)\n",
    "\n",
    "        # Fully connected layer\n",
    "        self.fc = nn.Linear(512, num_classes)\n",
    "\n",
    "    def _make_layer(self, out_channels, blocks, stride):\n",
    "        layers = [BasicBlock(self.in_channels, out_channels, stride)]\n",
    "        self.in_channels = out_channels\n",
    "        for _ in range(1, blocks):\n",
    "            layers.append(BasicBlock(out_channels, out_channels))\n",
    "        return nn.Sequential(*layers)\n",
    "\n",
    "    def forward(self, x):\n",
    "        # Initial layers\n",
    "        x = F.relu(self.bn1(self.conv1(x)))\n",
    "        x = self.pool1(x)\n",
    "\n",
    "        # Residual blocks\n",
    "        x = self.layer1(x)\n",
    "        self.save_feature_map(x, \"Node1/image_1.png\")\n",
    "        x = self.layer2(x)\n",
    "        self.save_feature_map(x, \"Node2/image_2.png\")\n",
    "        x = self.layer3(x)\n",
    "        self.save_feature_map(x, \"Node3/image_3.png\")\n",
    "        x = self.layer4(x)\n",
    "        \n",
    "        # Global Average Pooling and Fully Connected Layer\n",
    "        x = F.adaptive_avg_pool2d(x, (1, 1))\n",
    "        x = torch.flatten(x, 1)\n",
    "        x = self.fc(x)\n",
    "        return x\n",
    "\n",
    "    def save_feature_map(self, x, save_path):\n",
    "        # Detach, take mean of channels, normalize, and save\n",
    "        x = x.detach().cpu().numpy()\n",
    "        img = x[0].mean(axis=0)  # mean across channels\n",
    "        x_min = img.min()\n",
    "        x_max = img.max()\n",
    "        img = (img - x_min) / (x_max - x_min) * 255\n",
    "        img = img.astype(\"uint8\")\n",
    "        Image.fromarray(img).save(save_path)\n"
   ]
  },
  {
   "cell_type": "code",
   "execution_count": 10,
   "id": "cc184110-8898-408e-aa80-3654d0e7e084",
   "metadata": {
    "tags": []
   },
   "outputs": [],
   "source": [
    "import torch\n",
    "import torch.nn as nn\n",
    "import torch.nn.functional as F\n",
    "from torchvision.models import resnet18\n",
    "\n",
    "class BasicBlock(nn.Module):\n",
    "    def __init__(self, in_channels, out_channels, stride=1):\n",
    "        super().__init__()\n",
    "        self.conv1 = nn.Conv2d(in_channels, out_channels, kernel_size=3, stride=stride, padding=1, bias=False)\n",
    "        self.bn1 = nn.BatchNorm2d(out_channels)\n",
    "        self.conv2 = nn.Conv2d(out_channels, out_channels, kernel_size=3, stride=1, padding=1, bias=False)\n",
    "        self.bn2 = nn.BatchNorm2d(out_channels)\n",
    "\n",
    "        self.shortcut = nn.Sequential()\n",
    "        if stride != 1 or in_channels != out_channels:\n",
    "            self.shortcut = nn.Sequential(\n",
    "                nn.Conv2d(in_channels, out_channels, kernel_size=1, stride=stride, bias=False),\n",
    "                nn.BatchNorm2d(out_channels)\n",
    "            )\n",
    "\n",
    "    def forward(self, x):\n",
    "        identity = self.shortcut(x)\n",
    "        x = F.relu(self.bn1(self.conv1(x)))\n",
    "        x = self.bn2(self.conv2(x))\n",
    "        x += identity\n",
    "        x = F.relu(x)\n",
    "        return x\n",
    "\n",
    "\n",
    "class ResNet18Custom(nn.Module):\n",
    "    def __init__(self, num_classes=3):\n",
    "        super().__init__()\n",
    "        self.in_channels = 64\n",
    "\n",
    "        # Initial convolution and pooling\n",
    "        self.conv1 = nn.Conv2d(3, 64, kernel_size=7, stride=2, padding=3, bias=False)\n",
    "        self.bn1 = nn.BatchNorm2d(64)\n",
    "        self.pool1 = nn.MaxPool2d(kernel_size=3, stride=2, padding=1)\n",
    "\n",
    "        # Residual blocks\n",
    "        self.layer1 = self._make_layer(64, 2, stride=1)\n",
    "        self.layer2 = self._make_layer(128, 2, stride=2)\n",
    "        self.layer3 = self._make_layer(256, 2, stride=2)\n",
    "        self.layer4 = self._make_layer(512, 2, stride=2)\n",
    "\n",
    "        # Fully connected layer\n",
    "        self.fc = nn.Linear(512, num_classes)\n",
    "\n",
    "    def _make_layer(self, out_channels, blocks, stride):\n",
    "        layers = [BasicBlock(self.in_channels, out_channels, stride)]\n",
    "        self.in_channels = out_channels\n",
    "        for _ in range(1, blocks):\n",
    "            layers.append(BasicBlock(out_channels, out_channels))\n",
    "        return nn.Sequential(*layers)\n",
    "\n",
    "    def forward(self, x):\n",
    "        # Initial layers\n",
    "        x = F.relu(self.bn1(self.conv1(x)))\n",
    "        x = self.pool1(x)\n",
    "\n",
    "        # Residual blocks\n",
    "        x = self.layer1(x)\n",
    "        self.save_feature_map(x, \"Node1/image_1.png\")\n",
    "        x = self.layer2(x)\n",
    "        self.save_feature_map(x, \"Node2/image_2.png\")\n",
    "        x = self.layer3(x)\n",
    "        self.save_feature_map(x, \"Node3/image_3.png\")\n",
    "        x = self.layer4(x)\n",
    "        \n",
    "        # Global Average Pooling and Fully Connected Layer\n",
    "        x = F.adaptive_avg_pool2d(x, (1, 1))\n",
    "        x = torch.flatten(x, 1)\n",
    "        x = self.fc(x)\n",
    "        return x\n",
    "\n",
    "    def save_feature_map(self, x, save_path):\n",
    "        # Detach, take mean of channels, normalize, and save\n",
    "        #print(x.shape)\n",
    "        x = x.detach().cpu().numpy()\n",
    "        img = x[0].mean(axis=0)  # mean across channels\n",
    "        x_min = img.min()\n",
    "        x_max = img.max()\n",
    "        img = (img - x_min) / (x_max - x_min) * 255\n",
    "        img = img.astype(\"uint8\")\n",
    "        Image.fromarray(img).save(save_path)\n",
    "        \n",
    "        layers = x.shape\n",
    "        layers = layers[1]\n",
    "        i=0\n",
    "        while i < layers : \n",
    "            img = x[0][i]\n",
    "            x_min = img.min()\n",
    "            x_max = img.max()\n",
    "            img = (img - x_min) / (x_max - x_min) * 255\n",
    "            img = img.astype(\"uint8\")\n",
    "            save_path_layers = save_path.replace(\".png\", f\"_{i}.png\") \n",
    "            Image.fromarray(img).save(save_path_layers)            \n",
    "            \n",
    "            i=i+1\n",
    "        \n"
   ]
  },
  {
   "cell_type": "raw",
   "id": "589fe6d1-f659-4893-adfc-87ce95e95c84",
   "metadata": {},
   "source": [
    "Next we just train a model as we would normally here is some quick and dirt code to train a model"
   ]
  },
  {
   "cell_type": "code",
   "execution_count": 11,
   "id": "a517e475-f322-4bb3-8144-4a0a58fe0002",
   "metadata": {
    "tags": []
   },
   "outputs": [
    {
     "data": {
      "text/html": [
       "\n",
       "<style>\n",
       "    /* Turns off some styling */\n",
       "    progress {\n",
       "        /* gets rid of default border in Firefox and Opera. */\n",
       "        border: none;\n",
       "        /* Needs to be in here for Safari polyfill so background images work as expected. */\n",
       "        background-size: auto;\n",
       "    }\n",
       "    progress:not([value]), progress:not([value])::-webkit-progress-bar {\n",
       "        background: repeating-linear-gradient(45deg, #7e7e7e, #7e7e7e 10px, #5c5c5c 10px, #5c5c5c 20px);\n",
       "    }\n",
       "    .progress-bar-interrupted, .progress-bar-interrupted::-webkit-progress-bar {\n",
       "        background: #F44336;\n",
       "    }\n",
       "</style>\n"
      ],
      "text/plain": [
       "<IPython.core.display.HTML object>"
      ]
     },
     "metadata": {},
     "output_type": "display_data"
    },
    {
     "data": {
      "text/html": [
       "<table border=\"1\" class=\"dataframe\">\n",
       "  <thead>\n",
       "    <tr style=\"text-align: left;\">\n",
       "      <th>epoch</th>\n",
       "      <th>train_loss</th>\n",
       "      <th>valid_loss</th>\n",
       "      <th>accuracy</th>\n",
       "      <th>time</th>\n",
       "    </tr>\n",
       "  </thead>\n",
       "  <tbody>\n",
       "    <tr>\n",
       "      <td>0</td>\n",
       "      <td>0.684615</td>\n",
       "      <td>1.462814</td>\n",
       "      <td>0.335000</td>\n",
       "      <td>00:10</td>\n",
       "    </tr>\n",
       "    <tr>\n",
       "      <td>1</td>\n",
       "      <td>0.377722</td>\n",
       "      <td>58.552601</td>\n",
       "      <td>0.350000</td>\n",
       "      <td>00:09</td>\n",
       "    </tr>\n",
       "    <tr>\n",
       "      <td>2</td>\n",
       "      <td>0.233445</td>\n",
       "      <td>8.217371</td>\n",
       "      <td>0.510000</td>\n",
       "      <td>00:11</td>\n",
       "    </tr>\n",
       "    <tr>\n",
       "      <td>3</td>\n",
       "      <td>0.154608</td>\n",
       "      <td>9.197661</td>\n",
       "      <td>0.365000</td>\n",
       "      <td>00:11</td>\n",
       "    </tr>\n",
       "    <tr>\n",
       "      <td>4</td>\n",
       "      <td>0.108736</td>\n",
       "      <td>0.427488</td>\n",
       "      <td>0.800000</td>\n",
       "      <td>00:11</td>\n",
       "    </tr>\n",
       "    <tr>\n",
       "      <td>5</td>\n",
       "      <td>0.078828</td>\n",
       "      <td>0.233913</td>\n",
       "      <td>0.880000</td>\n",
       "      <td>00:11</td>\n",
       "    </tr>\n",
       "    <tr>\n",
       "      <td>6</td>\n",
       "      <td>0.058353</td>\n",
       "      <td>0.008428</td>\n",
       "      <td>1.000000</td>\n",
       "      <td>00:11</td>\n",
       "    </tr>\n",
       "    <tr>\n",
       "      <td>7</td>\n",
       "      <td>0.044026</td>\n",
       "      <td>0.002090</td>\n",
       "      <td>1.000000</td>\n",
       "      <td>00:11</td>\n",
       "    </tr>\n",
       "    <tr>\n",
       "      <td>8</td>\n",
       "      <td>0.033597</td>\n",
       "      <td>0.001440</td>\n",
       "      <td>1.000000</td>\n",
       "      <td>00:10</td>\n",
       "    </tr>\n",
       "    <tr>\n",
       "      <td>9</td>\n",
       "      <td>0.025895</td>\n",
       "      <td>0.001155</td>\n",
       "      <td>1.000000</td>\n",
       "      <td>00:10</td>\n",
       "    </tr>\n",
       "  </tbody>\n",
       "</table>"
      ],
      "text/plain": [
       "<IPython.core.display.HTML object>"
      ]
     },
     "metadata": {},
     "output_type": "display_data"
    },
    {
     "name": "stderr",
     "output_type": "stream",
     "text": [
      "C:\\Users\\bowan\\AppData\\Local\\Temp\\ipykernel_23088\\2295266903.py:94: RuntimeWarning: invalid value encountered in divide\n",
      "  img = (img - x_min) / (x_max - x_min) * 255\n",
      "C:\\Users\\bowan\\AppData\\Local\\Temp\\ipykernel_23088\\2295266903.py:95: RuntimeWarning: invalid value encountered in cast\n",
      "  img = img.astype(\"uint8\")\n"
     ]
    }
   ],
   "source": [
    "\n",
    "model = ResNet18Custom(num_classes=3)\n",
    "learn = Learner(dls, model, loss_func=CrossEntropyLossFlat(), metrics=accuracy)\n",
    "learn.fit_one_cycle(10)"
   ]
  },
  {
   "cell_type": "raw",
   "id": "08a579bb-82a2-4fa6-8f03-905bb8a4f673",
   "metadata": {},
   "source": [
    "We then use some code to make a prediction on some data point, which naturally triggers the extra part we added to the model. "
   ]
  },
  {
   "cell_type": "code",
   "execution_count": 45,
   "id": "bed34252-d90c-411d-86d8-95a7b2c2543d",
   "metadata": {
    "tags": []
   },
   "outputs": [
    {
     "data": {
      "text/html": [
       "\n",
       "<style>\n",
       "    /* Turns off some styling */\n",
       "    progress {\n",
       "        /* gets rid of default border in Firefox and Opera. */\n",
       "        border: none;\n",
       "        /* Needs to be in here for Safari polyfill so background images work as expected. */\n",
       "        background-size: auto;\n",
       "    }\n",
       "    progress:not([value]), progress:not([value])::-webkit-progress-bar {\n",
       "        background: repeating-linear-gradient(45deg, #7e7e7e, #7e7e7e 10px, #5c5c5c 10px, #5c5c5c 20px);\n",
       "    }\n",
       "    .progress-bar-interrupted, .progress-bar-interrupted::-webkit-progress-bar {\n",
       "        background: #F44336;\n",
       "    }\n",
       "</style>\n"
      ],
      "text/plain": [
       "<IPython.core.display.HTML object>"
      ]
     },
     "metadata": {},
     "output_type": "display_data"
    },
    {
     "data": {
      "text/html": [],
      "text/plain": [
       "<IPython.core.display.HTML object>"
      ]
     },
     "metadata": {},
     "output_type": "display_data"
    },
    {
     "name": "stdout",
     "output_type": "stream",
     "text": [
      "triange\n"
     ]
    },
    {
     "data": {
      "text/plain": [
       "<Axes: >"
      ]
     },
     "execution_count": 45,
     "metadata": {},
     "output_type": "execute_result"
    },
    {
     "data": {
      "image/png": "[encoded data removed]",
      "text/plain": [
       "<Figure size 500x500 with 1 Axes>"
      ]
     },
     "metadata": {},
     "output_type": "display_data"
    }
   ],
   "source": [
    "# just getting a random image from df\n",
    "number = 50 # 39 tri 260 circle  306 square\n",
    "image_paths = df['image_path']\n",
    "image_data = PILImage.create(image_paths[number])\n",
    "Prediction, ClassID, Confidence =learn.predict(image_data)\n",
    "print(Prediction)\n",
    "image_data.show()"
   ]
  },
  {
   "cell_type": "raw",
   "id": "22eedcf9-8340-4cd3-a4c4-9c7ac5ce23c9",
   "metadata": {
    "tags": []
   },
   "source": [
    "I then Have a series of blocks of code that visualises the average of all the channels at the 3 assorted points. "
   ]
  },
  {
   "cell_type": "code",
   "execution_count": 38,
   "id": "182a34de-f649-4333-8226-749a1076b185",
   "metadata": {
    "tags": []
   },
   "outputs": [
    {
     "data": {
      "text/plain": [
       "<Axes: >"
      ]
     },
     "execution_count": 38,
     "metadata": {},
     "output_type": "execute_result"
    },
    {
     "data": {
      "image/png": "[encoded data removed]",
      "text/plain": [
       "<Figure size 400x400 with 1 Axes>"
      ]
     },
     "metadata": {},
     "output_type": "display_data"
    }
   ],
   "source": [
    "# just getting a random image from df\n",
    "image_path = 'Node1/image_1.png'\n",
    "image = PILImage.create(image_path)\n",
    "image.show()"
   ]
  },
  {
   "cell_type": "code",
   "execution_count": 39,
   "id": "5e542497-1487-4593-b524-3fa95d90954d",
   "metadata": {
    "tags": []
   },
   "outputs": [
    {
     "data": {
      "text/plain": [
       "<Axes: >"
      ]
     },
     "execution_count": 39,
     "metadata": {},
     "output_type": "execute_result"
    },
    {
     "data": {
      "image/png": "[encoded data removed]",
      "text/plain": [
       "<Figure size 200x200 with 1 Axes>"
      ]
     },
     "metadata": {},
     "output_type": "display_data"
    }
   ],
   "source": [
    "# just getting a random image from df\n",
    "image_path = 'Node2/image_2.png'\n",
    "image = PILImage.create(image_path)\n",
    "image.show()"
   ]
  },
  {
   "cell_type": "code",
   "execution_count": 40,
   "id": "8211068c-7cfb-4e5d-9ca3-a67e6779ce8e",
   "metadata": {
    "tags": []
   },
   "outputs": [
    {
     "data": {
      "text/plain": [
       "<Axes: >"
      ]
     },
     "execution_count": 40,
     "metadata": {},
     "output_type": "execute_result"
    },
    {
     "data": {
      "image/png": "[encoded data removed]",
      "text/plain": [
       "<Figure size 100x100 with 1 Axes>"
      ]
     },
     "metadata": {},
     "output_type": "display_data"
    }
   ],
   "source": [
    "# just getting a random image from df\n",
    "image_path = 'Node3/image_3.png'\n",
    "image = PILImage.create(image_path)\n",
    "image.show()\n"
   ]
  },
  {
   "cell_type": "code",
   "execution_count": null,
   "id": "a26a32f0-5ca5-4bd5-9843-af9b95c47069",
   "metadata": {},
   "outputs": [],
   "source": []
  },
  {
   "cell_type": "raw",
   "id": "6aa50a15-787a-442e-900a-18b24c8a7690",
   "metadata": {},
   "source": [
    "Then here is a function takes a number of images and returns a mosaic "
   ]
  },
  {
   "cell_type": "code",
   "execution_count": 41,
   "id": "03671a3e-dd45-4d72-9970-2d411ad9b0ea",
   "metadata": {
    "tags": []
   },
   "outputs": [],
   "source": [
    "\n",
    "\n",
    "def create_mosaic(image_folder, output_file, grid_size=(5, 5), thumbnail_size=(100, 100)):\n",
    "\n",
    "    # List all image files in the folder\n",
    "    image_files = [os.path.join(image_folder, f) for f in os.listdir(image_folder) if f.endswith(('.png', '.jpg', '.jpeg'))]\n",
    "\n",
    "    # Calculate grid dimensions\n",
    "    rows, cols = grid_size\n",
    "    mosaic_width = cols * thumbnail_size[0]\n",
    "    mosaic_height = rows * thumbnail_size[1]\n",
    "\n",
    "    # Create a blank canvas\n",
    "    mosaic = Image.new('RGB', (mosaic_width, mosaic_height), color=(255, 255, 255))\n",
    "\n",
    "    # Add images to the grid\n",
    "    for i, image_file in enumerate(image_files[:rows * cols]):\n",
    "        img = Image.open(image_file)\n",
    "        img.thumbnail(thumbnail_size)\n",
    "\n",
    "        # Calculate position\n",
    "        row = i // cols\n",
    "        col = i % cols\n",
    "        x = col * thumbnail_size[0]\n",
    "        y = row * thumbnail_size[1]\n",
    "\n",
    "        # Paste image onto the mosaic\n",
    "        mosaic.paste(img, (x, y))\n",
    "\n",
    "    # Save the resulting mosaic\n",
    "    mosaic.save(output_file)\n",
    "    print(f\"Mosaic saved to {output_file}\")\n",
    "    return mosaic\n",
    "\n",
    "# Usage\n",
    "\n"
   ]
  },
  {
   "cell_type": "raw",
   "id": "d49b90ad-532b-438d-88cd-9d9314de1d73",
   "metadata": {},
   "source": [
    "Then using this mosaci function we can show all the assorted images of each channel as a single image \n",
    "\n",
    "The code is intentionally set to open them in an image viewing software not here so you can zoom in on them better, you can also open the files your self, and get set Showimage to False. "
   ]
  },
  {
   "cell_type": "code",
   "execution_count": 42,
   "id": "526c3073-526a-4a65-ab5a-37afc83f0c4b",
   "metadata": {
    "tags": []
   },
   "outputs": [],
   "source": [
    "#Showimage = False \n",
    "Showimage = True "
   ]
  },
  {
   "cell_type": "code",
   "execution_count": 43,
   "id": "f6b47e48-02da-4170-bab4-13e7e24aeda8",
   "metadata": {
    "tags": []
   },
   "outputs": [
    {
     "name": "stdout",
     "output_type": "stream",
     "text": [
      "Mosaic saved to node1.png\n"
     ]
    }
   ],
   "source": [
    "image_folder = 'Node1'\n",
    "output_file = 'node1.png'\n",
    "node1 = create_mosaic(image_folder, output_file, grid_size=(8, 8), thumbnail_size=(128, 128) )\n",
    "if Showimage == True : \n",
    "    node1.show()"
   ]
  },
  {
   "cell_type": "code",
   "execution_count": 35,
   "id": "12e1940b-aff3-473e-b5e9-601bef287755",
   "metadata": {
    "tags": []
   },
   "outputs": [
    {
     "name": "stdout",
     "output_type": "stream",
     "text": [
      "Mosaic saved to node2.png\n"
     ]
    }
   ],
   "source": [
    "image_folder = 'Node2'\n",
    "output_file = 'node2.png'\n",
    "node2 = create_mosaic(image_folder, output_file, grid_size=(8, 16), thumbnail_size=(64, 64))\n",
    "if Showimage == True : \n",
    "    node2.show()"
   ]
  },
  {
   "cell_type": "code",
   "execution_count": 36,
   "id": "b2b644fc-dea4-41f8-8859-3a26c80583ad",
   "metadata": {
    "tags": []
   },
   "outputs": [
    {
     "name": "stdout",
     "output_type": "stream",
     "text": [
      "Mosaic saved to node3.png\n"
     ]
    }
   ],
   "source": [
    "image_folder = 'Node3'\n",
    "output_file = 'node3.png'\n",
    "node3 = create_mosaic(image_folder, output_file, grid_size=(16, 16), thumbnail_size=(32, 32))\n",
    "if Showimage == True : \n",
    "    node3.show()"
   ]
  },
  {
   "cell_type": "code",
   "execution_count": null,
   "id": "a7b194fc-0094-4114-ac60-373804900b6d",
   "metadata": {},
   "outputs": [],
   "source": []
  }
 ],
 "metadata": {
  "kernelspec": {
   "display_name": "Python 3 (ipykernel)",
   "language": "python",
   "name": "python3"
  },
  "language_info": {
   "codemirror_mode": {
    "name": "ipython",
    "version": 3
   },
   "file_extension": ".py",
   "mimetype": "text/x-python",
   "name": "python",
   "nbconvert_exporter": "python",
   "pygments_lexer": "ipython3",
   "version": "3.11.5"
  }
 },
 "nbformat": 4,
 "nbformat_minor": 5
}
