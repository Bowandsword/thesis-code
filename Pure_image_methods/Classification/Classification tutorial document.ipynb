{
 "cells": [
  {
   "cell_type": "raw",
   "id": "d5a4e52c-fc29-4dcc-904f-ea8d2d834f20",
   "metadata": {},
   "source": [
    "Welcome to a simple guide to ML image classification using FastAI\n",
    "\n",
    "This guide uses a number of procedurally generated shapes in rgb images, but set up in a way to let you easily swap in your own images. \n"
   ]
  },
  {
   "cell_type": "raw",
   "id": "f8516d77-7f84-4d12-ba6d-4aa94f03f132",
   "metadata": {},
   "source": [
    "The first step as always is to import the assorted packages \n",
    "\n",
    "Pandas to work with dataframes to organise data\n",
    "os to navigate around folders \n",
    "Fastai to do the ai stuff\n"
   ]
  },
  {
   "cell_type": "code",
   "execution_count": 1,
   "id": "ecc8253d-ebc8-42d5-bb5a-62149701c775",
   "metadata": {
    "tags": []
   },
   "outputs": [
    {
     "name": "stderr",
     "output_type": "stream",
     "text": [
      "C:\\Users\\bowan\\anaconda3\\Lib\\site-packages\\pandas\\core\\arrays\\masked.py:60: UserWarning: Pandas requires version '1.3.6' or newer of 'bottleneck' (version '1.3.5' currently installed).\n",
      "  from pandas.core import (\n"
     ]
    }
   ],
   "source": [
    "import pandas as pd\n",
    "import os\n",
    "from fastai.vision.all import *"
   ]
  },
  {
   "cell_type": "raw",
   "id": "517d5bcb-eb1c-49b7-87f0-203e8333a909",
   "metadata": {},
   "source": [
    "Check sample data exists and if it doesn't generate this \n",
    "\n",
    "If your swapping in your own data remove this code "
   ]
  },
  {
   "cell_type": "code",
   "execution_count": 2,
   "id": "b438dcc4-7cce-40de-a01c-ee4c96ce5261",
   "metadata": {},
   "outputs": [
    {
     "name": "stdout",
     "output_type": "stream",
     "text": [
      "The file exists.\n"
     ]
    }
   ],
   "source": [
    "Dataframe_path = '../image_data_assorted.csv'\n",
    "\n",
    "if os.path.exists(Dataframe_path):\n",
    "    print(\"The file exists.\")\n",
    "else:\n",
    "    %run ../Generating_basic_data.ipynb"
   ]
  },
  {
   "cell_type": "code",
   "execution_count": 3,
   "id": "a2d0ad2d-f3dc-43b1-bf5d-7f8accd2a3d8",
   "metadata": {
    "tags": []
   },
   "outputs": [],
   "source": []
  },
  {
   "cell_type": "raw",
   "id": "0ada96fc-f67f-43ec-8857-ebc76550a711",
   "metadata": {},
   "source": [
    "The next step is to load the data, this document comes with data based on assorted shapes, which can be easily to what you desire. "
   ]
  },
  {
   "cell_type": "code",
   "execution_count": 2,
   "id": "44524514-fa19-49ad-a04d-ac4834f3de77",
   "metadata": {
    "tags": []
   },
   "outputs": [],
   "source": [
    "\n",
    "df = pd.read_csv(Dataframe_path)"
   ]
  },
  {
   "cell_type": "raw",
   "id": "b0148c80-0826-4b9a-8517-7371b69a3487",
   "metadata": {},
   "source": [
    "The default data is a 1000 images of assorted shapes randomly generated. \n",
    "Having a random shape chosen of a circle, triangle or square.  \n",
    "Having their size and position randomly generated for the other basic tutorials.\n",
    "Having a number of other variables producally generated from the size."
   ]
  },
  {
   "cell_type": "code",
   "execution_count": 3,
   "id": "4281009b-63c9-40fe-b757-d4c9616529b7",
   "metadata": {
    "tags": []
   },
   "outputs": [
    {
     "data": {
      "text/html": [
       "<div>\n",
       "<style scoped>\n",
       "    .dataframe tbody tr th:only-of-type {\n",
       "        vertical-align: middle;\n",
       "    }\n",
       "\n",
       "    .dataframe tbody tr th {\n",
       "        vertical-align: top;\n",
       "    }\n",
       "\n",
       "    .dataframe thead th {\n",
       "        text-align: right;\n",
       "    }\n",
       "</style>\n",
       "<table border=\"1\" class=\"dataframe\">\n",
       "  <thead>\n",
       "    <tr style=\"text-align: right;\">\n",
       "      <th></th>\n",
       "      <th>Radius</th>\n",
       "      <th>X_Position</th>\n",
       "      <th>Y_Position</th>\n",
       "      <th>Area</th>\n",
       "      <th>Surface2d</th>\n",
       "      <th>Volume</th>\n",
       "      <th>image_path</th>\n",
       "      <th>mask_path</th>\n",
       "      <th>shape</th>\n",
       "    </tr>\n",
       "  </thead>\n",
       "  <tbody>\n",
       "    <tr>\n",
       "      <th>0</th>\n",
       "      <td>26</td>\n",
       "      <td>216</td>\n",
       "      <td>360</td>\n",
       "      <td>2123</td>\n",
       "      <td>82</td>\n",
       "      <td>73585</td>\n",
       "      <td>../images_assorted/image_1.png</td>\n",
       "      <td>../masks_assorted/mask_1.png</td>\n",
       "      <td>circle</td>\n",
       "    </tr>\n",
       "    <tr>\n",
       "      <th>1</th>\n",
       "      <td>56</td>\n",
       "      <td>285</td>\n",
       "      <td>248</td>\n",
       "      <td>3136</td>\n",
       "      <td>224</td>\n",
       "      <td>175616</td>\n",
       "      <td>../images_assorted/image_2.png</td>\n",
       "      <td>../masks_assorted/mask_2.png</td>\n",
       "      <td>square</td>\n",
       "    </tr>\n",
       "    <tr>\n",
       "      <th>2</th>\n",
       "      <td>16</td>\n",
       "      <td>69</td>\n",
       "      <td>205</td>\n",
       "      <td>256</td>\n",
       "      <td>64</td>\n",
       "      <td>4096</td>\n",
       "      <td>../images_assorted/image_3.png</td>\n",
       "      <td>../masks_assorted/mask_3.png</td>\n",
       "      <td>square</td>\n",
       "    </tr>\n",
       "    <tr>\n",
       "      <th>3</th>\n",
       "      <td>105</td>\n",
       "      <td>336</td>\n",
       "      <td>270</td>\n",
       "      <td>34618</td>\n",
       "      <td>330</td>\n",
       "      <td>4846590</td>\n",
       "      <td>../images_assorted/image_4.png</td>\n",
       "      <td>../masks_assorted/mask_4.png</td>\n",
       "      <td>circle</td>\n",
       "    </tr>\n",
       "    <tr>\n",
       "      <th>4</th>\n",
       "      <td>99</td>\n",
       "      <td>182</td>\n",
       "      <td>295</td>\n",
       "      <td>4900</td>\n",
       "      <td>338</td>\n",
       "      <td>970299</td>\n",
       "      <td>../images_assorted/image_5.png</td>\n",
       "      <td>../masks_assorted/mask_5.png</td>\n",
       "      <td>triange</td>\n",
       "    </tr>\n",
       "  </tbody>\n",
       "</table>\n",
       "</div>"
      ],
      "text/plain": [
       "   Radius  X_Position  Y_Position   Area  Surface2d   Volume  \\\n",
       "0      26         216         360   2123         82    73585   \n",
       "1      56         285         248   3136        224   175616   \n",
       "2      16          69         205    256         64     4096   \n",
       "3     105         336         270  34618        330  4846590   \n",
       "4      99         182         295   4900        338   970299   \n",
       "\n",
       "                       image_path                     mask_path    shape  \n",
       "0  ../images_assorted/image_1.png  ../masks_assorted/mask_1.png   circle  \n",
       "1  ../images_assorted/image_2.png  ../masks_assorted/mask_2.png   square  \n",
       "2  ../images_assorted/image_3.png  ../masks_assorted/mask_3.png   square  \n",
       "3  ../images_assorted/image_4.png  ../masks_assorted/mask_4.png   circle  \n",
       "4  ../images_assorted/image_5.png  ../masks_assorted/mask_5.png  triange  "
      ]
     },
     "execution_count": 3,
     "metadata": {},
     "output_type": "execute_result"
    }
   ],
   "source": [
    "df.head()"
   ]
  },
  {
   "cell_type": "raw",
   "id": "708738cf-702c-4559-8d66-f969d5597fb6",
   "metadata": {},
   "source": [
    "We are now going to set up two functions to tell the code how to extract information from the dataframe (which needs to be set up after these two functions).This will tell the model how it will take the dataframe and pull out the information we want from it. \n",
    "\n",
    "In this case as we are doing classification we want to extract the image and then the ground truth label for the image. For the input and target respectively. \n",
    "\n",
    "The function get_input is given a row of the dataframe by the data frame and finds the data stored under the column image_path which in this case is the path to the image which is then converted into a PIL image and returned to the datablock. \n",
    "\n",
    "The function get_target is given a row of the dataframe by the data frame and finds the data stored under the column \"shape\" which in this case is a string used by the AI model as the classification of the image. This data is returned and used by the model as the ground truth. "
   ]
  },
  {
   "cell_type": "code",
   "execution_count": 4,
   "id": "d36d46ef-cce5-4221-99f0-f5498bbc07e6",
   "metadata": {},
   "outputs": [],
   "source": [
    "def get_inputs(row):\n",
    "    # Convert image path to PILImage\n",
    "    image_path = row['image_path']\n",
    "    image_data = PILImage.create(image_path)\n",
    "    return image_data \n",
    "\n",
    "def get_target(row):\n",
    "    # Convert image path to PILImage\n",
    "    target_data = row['shape']\n",
    "    return target_data"
   ]
  },
  {
   "cell_type": "raw",
   "id": "84572333-9c42-4ecb-ac5d-4d62172a0871",
   "metadata": {},
   "source": [
    "We will now setup the DataBlock \n",
    "\n",
    "The Datablock is how data is loaded into AI models for FastAI models.\n",
    "\n",
    "We first tell it what data to expect in the input, and the target. \n",
    "As we are doing image classification we input an image and output a classification. Therefore we tell it we are going to give it an \n",
    "\n",
    "ImageBlock for the image \n",
    "CategoryBlock for the classification.\n",
    "\n",
    "We then need to tell it how it's going to get the data, we now use the getter functions set up in the last block of code. Using the following code, all functions we input by default \n",
    "\n",
    "get_x=get_inputs\n",
    "get_y=get_target \n",
    "\n",
    "With get_x for the input and get_y for the output. With the logic being f(x) = y for the naming convention. \n",
    "\n",
    "These 3 parameters are the bare minimum needed to run the code, but I’ve added 2 extra lines and commented them out that would help out if you're swapping in your data. \n",
    "\n",
    "The first just adds a random splitter to the datablock, so you can just better set up validation set,\n",
    "\n",
    "The second will take the image input and resize it to a uniform size. This is useful as you need to have uniform image size but your source of images might not be uniform, also downsizing the images makes the model smaller and the code runs faster. \n",
    "\n",
    "For more information on Datablock see the (whatever I'm referring to the main chapter as)"
   ]
  },
  {
   "cell_type": "code",
   "execution_count": 9,
   "id": "da03e26d-c37f-4732-b235-3b3901dd286d",
   "metadata": {},
   "outputs": [],
   "source": [
    "dblock = DataBlock(\n",
    "    blocks=(ImageBlock, CategoryBlock),  # Image input and auxiliary input\n",
    "    get_x=get_inputs,  # Get both the image path and the auxiliary input\n",
    "    get_y=get_target  # Get the radius value from the dataframe\n",
    "    #splitter=RandomSplitter(valid_pct=0.2, seed=42),  # Split into train and validation sets\n",
    "    #item_tfms=Resize(512)  # Resize images to 512x512\n",
    "\n",
    ")\n"
   ]
  },
  {
   "cell_type": "raw",
   "id": "0f81442b-ca3e-406e-8b25-29ab63ae83be",
   "metadata": {},
   "source": [
    "Next we create the dataloader. \n",
    "\n",
    "To do this we take our datablock’s dataloader method, and pass it the dataframe we store our data in and tell it the batch size. \n",
    "\n",
    "The batch size is how many samples it will run in parallel while training. Put this number as high as possible before the code crashes. \n"
   ]
  },
  {
   "cell_type": "code",
   "execution_count": 17,
   "id": "aec2c691-53f8-407c-85a3-4ab521c545fb",
   "metadata": {},
   "outputs": [],
   "source": [
    "#os.chdir('..') # just moves directory where shared dataset is\n",
    "dls = dblock.dataloaders(df, bs=64)\n"
   ]
  },
  {
   "cell_type": "raw",
   "id": "f5015d6a-3bd1-4ce2-9332-1000ee727b5e",
   "metadata": {},
   "source": [
    "To determine if the dataloader is working correctly we can display a number of its results using the following code. \n",
    "\n",
    "It will show the image with the ground truth classification above it for 9 (or batch size if lower) randomly selected samples. \n",
    "\n",
    "When using default data I’m providing it should show a red background with blue shapes. It's ugly but apparently best for colorblindness. \n",
    "\n"
   ]
  },
  {
   "cell_type": "code",
   "execution_count": 18,
   "id": "9d333f59-13e9-47e6-a3e5-dc9d9a30b0bf",
   "metadata": {
    "tags": []
   },
   "outputs": [
    {
     "data": {
      "image/png": "[encoded data removed]",
      "text/plain": [
       "<Figure size 900x900 with 9 Axes>"
      ]
     },
     "metadata": {},
     "output_type": "display_data"
    }
   ],
   "source": [
    "dls.show_batch()"
   ]
  },
  {
   "cell_type": "raw",
   "id": "5e9b5265-0ebb-4ccf-8b75-6c5006da76eb",
   "metadata": {},
   "source": [
    "Next we can set up the learner object, which is the final form of the model. \n",
    "\n",
    "As the datablock uses an ImageBlock as input we need to use the vision_leaner. \n",
    "\n",
    "We give the following parameters to the vision_leaner\n",
    "\n",
    "1 Dataloader\n",
    "2 The ML Model\n",
    "3 Metrics we want\n",
    "\n",
    "For the modelI have chosen the Resnet model resnet34, you can pick other models and if you need a more powerful model you increase the number next to Resnet \n",
    "\n",
    "List of other Resnet models, if custom data doesn't work move to bigger model till it does\n",
    "\n",
    "resnet18, resnet34, resnet50, resnet101, resnet110, resnet152, resnet164, resnet1202\n",
    "\n",
    "For the metric I have simply chosen accuracy for its simplicity but its far from the only metric you can use here. \n"
   ]
  },
  {
   "cell_type": "code",
   "execution_count": 8,
   "id": "37c87e48-e377-46ca-962c-690298afa0fe",
   "metadata": {
    "tags": []
   },
   "outputs": [],
   "source": [
    "# Create and train the learner\n",
    "learn = vision_learner(dls, resnet34, metrics=accuracy)\n"
   ]
  },
  {
   "cell_type": "raw",
   "id": "60f370fe-2111-48ca-a917-d88b8f8c5dbb",
   "metadata": {},
   "source": [
    "Next we want to find the optimum rate to train the model, the default value is generally ok most of the time but we can do better with very little effort. \n",
    "\n",
    "Using the following line of code the code will attempt to automatically find the optimum training speed \n",
    "\n",
    "The line of code will attempt to find the steepest point on the plot but generally you want around halfway down the declining slope, if the code doesn’t fine this point just look at the plot and change the variable to that yourself. \n",
    "\n",
    "For more detials see the () document \n",
    "\n"
   ]
  },
  {
   "cell_type": "code",
   "execution_count": 9,
   "id": "d304b8a4-0cb8-4a53-b913-d36d6f4ba7b9",
   "metadata": {
    "tags": []
   },
   "outputs": [
    {
     "data": {
      "text/html": [
       "\n",
       "<style>\n",
       "    /* Turns off some styling */\n",
       "    progress {\n",
       "        /* gets rid of default border in Firefox and Opera. */\n",
       "        border: none;\n",
       "        /* Needs to be in here for Safari polyfill so background images work as expected. */\n",
       "        background-size: auto;\n",
       "    }\n",
       "    progress:not([value]), progress:not([value])::-webkit-progress-bar {\n",
       "        background: repeating-linear-gradient(45deg, #7e7e7e, #7e7e7e 10px, #5c5c5c 10px, #5c5c5c 20px);\n",
       "    }\n",
       "    .progress-bar-interrupted, .progress-bar-interrupted::-webkit-progress-bar {\n",
       "        background: #F44336;\n",
       "    }\n",
       "</style>\n"
      ],
      "text/plain": [
       "<IPython.core.display.HTML object>"
      ]
     },
     "metadata": {},
     "output_type": "display_data"
    },
    {
     "data": {
      "text/html": [],
      "text/plain": [
       "<IPython.core.display.HTML object>"
      ]
     },
     "metadata": {},
     "output_type": "display_data"
    },
    {
     "data": {
      "image/png": "[encoded data removed]",
      "text/plain": [
       "<Figure size 640x480 with 1 Axes>"
      ]
     },
     "metadata": {},
     "output_type": "display_data"
    }
   ],
   "source": [
    "lr_min,lr_steep = learn.lr_find(suggest_funcs=(minimum, steep))"
   ]
  },
  {
   "cell_type": "raw",
   "id": "96d6d1da-7312-4c77-9b81-a3741c8a26a8",
   "metadata": {},
   "source": [
    "Running the trainer \n",
    "\n",
    "As we are using a pretrained Resnet model we want to fine tune it rather then fully train it so we use fine_tune method. See () document for more details about training methods and trainer outputs "
   ]
  },
  {
   "cell_type": "code",
   "execution_count": 10,
   "id": "62ec3f5c-4669-47a9-9a0e-5246d747b73c",
   "metadata": {
    "tags": []
   },
   "outputs": [
    {
     "data": {
      "text/html": [
       "\n",
       "<style>\n",
       "    /* Turns off some styling */\n",
       "    progress {\n",
       "        /* gets rid of default border in Firefox and Opera. */\n",
       "        border: none;\n",
       "        /* Needs to be in here for Safari polyfill so background images work as expected. */\n",
       "        background-size: auto;\n",
       "    }\n",
       "    progress:not([value]), progress:not([value])::-webkit-progress-bar {\n",
       "        background: repeating-linear-gradient(45deg, #7e7e7e, #7e7e7e 10px, #5c5c5c 10px, #5c5c5c 20px);\n",
       "    }\n",
       "    .progress-bar-interrupted, .progress-bar-interrupted::-webkit-progress-bar {\n",
       "        background: #F44336;\n",
       "    }\n",
       "</style>\n"
      ],
      "text/plain": [
       "<IPython.core.display.HTML object>"
      ]
     },
     "metadata": {},
     "output_type": "display_data"
    },
    {
     "data": {
      "text/html": [
       "<table border=\"1\" class=\"dataframe\">\n",
       "  <thead>\n",
       "    <tr style=\"text-align: left;\">\n",
       "      <th>epoch</th>\n",
       "      <th>train_loss</th>\n",
       "      <th>valid_loss</th>\n",
       "      <th>accuracy</th>\n",
       "      <th>time</th>\n",
       "    </tr>\n",
       "  </thead>\n",
       "  <tbody>\n",
       "    <tr>\n",
       "      <td>0</td>\n",
       "      <td>1.781769</td>\n",
       "      <td>2.471849</td>\n",
       "      <td>0.320000</td>\n",
       "      <td>00:06</td>\n",
       "    </tr>\n",
       "  </tbody>\n",
       "</table>"
      ],
      "text/plain": [
       "<IPython.core.display.HTML object>"
      ]
     },
     "metadata": {},
     "output_type": "display_data"
    },
    {
     "data": {
      "text/html": [
       "\n",
       "<style>\n",
       "    /* Turns off some styling */\n",
       "    progress {\n",
       "        /* gets rid of default border in Firefox and Opera. */\n",
       "        border: none;\n",
       "        /* Needs to be in here for Safari polyfill so background images work as expected. */\n",
       "        background-size: auto;\n",
       "    }\n",
       "    progress:not([value]), progress:not([value])::-webkit-progress-bar {\n",
       "        background: repeating-linear-gradient(45deg, #7e7e7e, #7e7e7e 10px, #5c5c5c 10px, #5c5c5c 20px);\n",
       "    }\n",
       "    .progress-bar-interrupted, .progress-bar-interrupted::-webkit-progress-bar {\n",
       "        background: #F44336;\n",
       "    }\n",
       "</style>\n"
      ],
      "text/plain": [
       "<IPython.core.display.HTML object>"
      ]
     },
     "metadata": {},
     "output_type": "display_data"
    },
    {
     "data": {
      "text/html": [
       "<table border=\"1\" class=\"dataframe\">\n",
       "  <thead>\n",
       "    <tr style=\"text-align: left;\">\n",
       "      <th>epoch</th>\n",
       "      <th>train_loss</th>\n",
       "      <th>valid_loss</th>\n",
       "      <th>accuracy</th>\n",
       "      <th>time</th>\n",
       "    </tr>\n",
       "  </thead>\n",
       "  <tbody>\n",
       "    <tr>\n",
       "      <td>0</td>\n",
       "      <td>0.908959</td>\n",
       "      <td>1.399032</td>\n",
       "      <td>0.450000</td>\n",
       "      <td>00:08</td>\n",
       "    </tr>\n",
       "    <tr>\n",
       "      <td>1</td>\n",
       "      <td>0.679661</td>\n",
       "      <td>2.224085</td>\n",
       "      <td>0.525000</td>\n",
       "      <td>00:07</td>\n",
       "    </tr>\n",
       "    <tr>\n",
       "      <td>2</td>\n",
       "      <td>0.469081</td>\n",
       "      <td>0.951497</td>\n",
       "      <td>0.675000</td>\n",
       "      <td>00:07</td>\n",
       "    </tr>\n",
       "    <tr>\n",
       "      <td>3</td>\n",
       "      <td>0.336014</td>\n",
       "      <td>0.091687</td>\n",
       "      <td>0.975000</td>\n",
       "      <td>00:07</td>\n",
       "    </tr>\n",
       "    <tr>\n",
       "      <td>4</td>\n",
       "      <td>0.242232</td>\n",
       "      <td>0.020538</td>\n",
       "      <td>0.995000</td>\n",
       "      <td>00:07</td>\n",
       "    </tr>\n",
       "    <tr>\n",
       "      <td>5</td>\n",
       "      <td>0.183902</td>\n",
       "      <td>0.012868</td>\n",
       "      <td>0.995000</td>\n",
       "      <td>00:07</td>\n",
       "    </tr>\n",
       "    <tr>\n",
       "      <td>6</td>\n",
       "      <td>0.143795</td>\n",
       "      <td>0.010638</td>\n",
       "      <td>0.995000</td>\n",
       "      <td>00:07</td>\n",
       "    </tr>\n",
       "    <tr>\n",
       "      <td>7</td>\n",
       "      <td>0.114098</td>\n",
       "      <td>0.009331</td>\n",
       "      <td>0.995000</td>\n",
       "      <td>00:07</td>\n",
       "    </tr>\n",
       "    <tr>\n",
       "      <td>8</td>\n",
       "      <td>0.090668</td>\n",
       "      <td>0.008653</td>\n",
       "      <td>0.995000</td>\n",
       "      <td>00:07</td>\n",
       "    </tr>\n",
       "    <tr>\n",
       "      <td>9</td>\n",
       "      <td>0.074071</td>\n",
       "      <td>0.008836</td>\n",
       "      <td>0.995000</td>\n",
       "      <td>00:07</td>\n",
       "    </tr>\n",
       "  </tbody>\n",
       "</table>"
      ],
      "text/plain": [
       "<IPython.core.display.HTML object>"
      ]
     },
     "metadata": {},
     "output_type": "display_data"
    }
   ],
   "source": [
    "learn.fine_tune(10, base_lr=lr_steep)"
   ]
  },
  {
   "cell_type": "raw",
   "id": "20d79cdd-2bad-46ce-9f6c-3eafb1132f09",
   "metadata": {},
   "source": [
    "An important part of understanding the training process is to actually look at how the loss values change over each epoch \n",
    "\n",
    "plot train vs validation plots \n"
   ]
  },
  {
   "cell_type": "code",
   "execution_count": 11,
   "id": "3ae5f95a-8fa2-40cc-8a4e-cbe298af3e07",
   "metadata": {
    "tags": []
   },
   "outputs": [
    {
     "name": "stdout",
     "output_type": "stream",
     "text": [
      "<bound method Recorder.plot_loss of Recorder>\n"
     ]
    },
    {
     "data": {
      "image/png": "[encoded data removed]",
      "text/plain": [
       "<Figure size 640x480 with 1 Axes>"
      ]
     },
     "metadata": {},
     "output_type": "display_data"
    }
   ],
   "source": [
    "# Plot the losses\n",
    "learn.recorder.plot_loss()\n",
    "print(learn.recorder.plot_loss)\n",
    "# Set the y-axis limits (replace with your desired limits)\n",
    "#plt.ylim(0, 5)  # sets y-axis limits \n",
    "# Show the plot with updated y-limits\n",
    "plt.show()"
   ]
  },
  {
   "cell_type": "raw",
   "id": "719bed66-58de-441c-9ac5-3a1f469bb4e7",
   "metadata": {},
   "source": [
    "You generally want to see the validation and training loss values within 20% of each other and have the training stop shortly after they stop declining."
   ]
  },
  {
   "cell_type": "code",
   "execution_count": null,
   "id": "a54d741b-9b88-42f5-bbea-7468508bf903",
   "metadata": {},
   "outputs": [],
   "source": []
  },
  {
   "cell_type": "raw",
   "id": "3fc28a49-7992-4796-a631-a1f239985b16",
   "metadata": {},
   "source": [
    "Evulating performance of model \n",
    "\n",
    "to do this for classifiaction models we can plot a confusion matrix \n",
    "\n",
    "The following code will return a confusion matrix for the validation dataset. \n",
    "\n",
    "This will show what the model is getting corrent and how/where its getting it wrong. \n"
   ]
  },
  {
   "cell_type": "code",
   "execution_count": 12,
   "id": "552835b9-0283-49e6-9c53-9281bcd15312",
   "metadata": {
    "tags": []
   },
   "outputs": [
    {
     "data": {
      "text/html": [
       "\n",
       "<style>\n",
       "    /* Turns off some styling */\n",
       "    progress {\n",
       "        /* gets rid of default border in Firefox and Opera. */\n",
       "        border: none;\n",
       "        /* Needs to be in here for Safari polyfill so background images work as expected. */\n",
       "        background-size: auto;\n",
       "    }\n",
       "    progress:not([value]), progress:not([value])::-webkit-progress-bar {\n",
       "        background: repeating-linear-gradient(45deg, #7e7e7e, #7e7e7e 10px, #5c5c5c 10px, #5c5c5c 20px);\n",
       "    }\n",
       "    .progress-bar-interrupted, .progress-bar-interrupted::-webkit-progress-bar {\n",
       "        background: #F44336;\n",
       "    }\n",
       "</style>\n"
      ],
      "text/plain": [
       "<IPython.core.display.HTML object>"
      ]
     },
     "metadata": {},
     "output_type": "display_data"
    },
    {
     "data": {
      "text/html": [],
      "text/plain": [
       "<IPython.core.display.HTML object>"
      ]
     },
     "metadata": {},
     "output_type": "display_data"
    },
    {
     "data": {
      "text/html": [
       "\n",
       "<style>\n",
       "    /* Turns off some styling */\n",
       "    progress {\n",
       "        /* gets rid of default border in Firefox and Opera. */\n",
       "        border: none;\n",
       "        /* Needs to be in here for Safari polyfill so background images work as expected. */\n",
       "        background-size: auto;\n",
       "    }\n",
       "    progress:not([value]), progress:not([value])::-webkit-progress-bar {\n",
       "        background: repeating-linear-gradient(45deg, #7e7e7e, #7e7e7e 10px, #5c5c5c 10px, #5c5c5c 20px);\n",
       "    }\n",
       "    .progress-bar-interrupted, .progress-bar-interrupted::-webkit-progress-bar {\n",
       "        background: #F44336;\n",
       "    }\n",
       "</style>\n"
      ],
      "text/plain": [
       "<IPython.core.display.HTML object>"
      ]
     },
     "metadata": {},
     "output_type": "display_data"
    },
    {
     "data": {
      "text/html": [],
      "text/plain": [
       "<IPython.core.display.HTML object>"
      ]
     },
     "metadata": {},
     "output_type": "display_data"
    },
    {
     "data": {
      "image/png": "[encoded data removed]",
      "text/plain": [
       "<Figure size 640x480 with 1 Axes>"
      ]
     },
     "metadata": {},
     "output_type": "display_data"
    }
   ],
   "source": [
    "interp = ClassificationInterpretation.from_learner(learn)\n",
    "interp.plot_confusion_matrix()"
   ]
  },
  {
   "cell_type": "raw",
   "id": "5b670a03-034f-4343-a6e2-c63451d593bd",
   "metadata": {},
   "source": [
    "How to export the model for future use\n",
    "Saving the file into a pkl file "
   ]
  },
  {
   "cell_type": "code",
   "execution_count": 13,
   "id": "6cf3dc0a-6948-42db-b4af-cd8d326ccd10",
   "metadata": {},
   "outputs": [],
   "source": [
    "\n",
    "\n",
    "learn.export('exported_classification_model.pkl')\n",
    " \n"
   ]
  },
  {
   "cell_type": "raw",
   "id": "f1e9d2db-f04c-4fe0-9195-d6788605b720",
   "metadata": {},
   "source": [
    "How to import model you have exported for future use"
   ]
  },
  {
   "cell_type": "code",
   "execution_count": 19,
   "id": "f1b99a37-35f4-4fb6-bfcd-3d3822063e9a",
   "metadata": {},
   "outputs": [],
   "source": [
    "# import\n",
    "\n",
    "learn2 = load_learner('exported_classification_model.pkl')   # using learner2 to show its loading"
   ]
  },
  {
   "cell_type": "raw",
   "id": "b1238f8b-2b33-495a-a72e-cd6cb0398345",
   "metadata": {},
   "source": [
    "Using the following code we can open an image from our dataframe and then pass it to the model. \n",
    "\n",
    "So you can see how you can use the model as a function\n",
    "\n",
    "With it inputing the data you set up in the datablocks and outputting 3 variables. \n"
   ]
  },
  {
   "cell_type": "code",
   "execution_count": 24,
   "id": "bed34252-d90c-411d-86d8-95a7b2c2543d",
   "metadata": {
    "tags": []
   },
   "outputs": [
    {
     "data": {
      "text/html": [
       "\n",
       "<style>\n",
       "    /* Turns off some styling */\n",
       "    progress {\n",
       "        /* gets rid of default border in Firefox and Opera. */\n",
       "        border: none;\n",
       "        /* Needs to be in here for Safari polyfill so background images work as expected. */\n",
       "        background-size: auto;\n",
       "    }\n",
       "    progress:not([value]), progress:not([value])::-webkit-progress-bar {\n",
       "        background: repeating-linear-gradient(45deg, #7e7e7e, #7e7e7e 10px, #5c5c5c 10px, #5c5c5c 20px);\n",
       "    }\n",
       "    .progress-bar-interrupted, .progress-bar-interrupted::-webkit-progress-bar {\n",
       "        background: #F44336;\n",
       "    }\n",
       "</style>\n"
      ],
      "text/plain": [
       "<IPython.core.display.HTML object>"
      ]
     },
     "metadata": {},
     "output_type": "display_data"
    },
    {
     "data": {
      "text/html": [],
      "text/plain": [
       "<IPython.core.display.HTML object>"
      ]
     },
     "metadata": {},
     "output_type": "display_data"
    }
   ],
   "source": [
    "# just getting a random image from df\n",
    "image_paths = df['image_path']\n",
    "image_data = PILImage.create(image_paths[4])\n",
    "Prediction, ClassID, Confidence =learn2.predict(image_data)"
   ]
  },
  {
   "cell_type": "raw",
   "id": "85ab0d7d-7e71-411a-a2fc-c716dedbc08c",
   "metadata": {
    "tags": []
   },
   "source": [
    "We can see the model when it makes it predictions outputs 3 variables \n",
    "\n",
    "Prediction : Will return the string of the classification it thinks the image is\n",
    "ClassID    : Will return the numerical ID of each classification \n",
    "Confidence : Will return the models confidence for each ClassID in a tuple\n"
   ]
  },
  {
   "cell_type": "code",
   "execution_count": 26,
   "id": "1e17c82f-11f7-4270-a2b1-114a8506489f",
   "metadata": {
    "tags": []
   },
   "outputs": [
    {
     "name": "stdout",
     "output_type": "stream",
     "text": [
      "triange\n",
      "tensor(2)\n",
      "tensor([1.3473e-04, 5.6745e-04, 9.9930e-01])\n"
     ]
    }
   ],
   "source": [
    "print(Prediction)\n",
    "print(ClassID)\n",
    "print(Confidence)"
   ]
  },
  {
   "cell_type": "raw",
   "id": "1cc2f848-9a1a-4f42-9c29-e04dbe15b067",
   "metadata": {},
   "source": [
    "And thats it congradulations you now know how to do machine learning you can now put AI skills on your resume. The skynet is the limit. "
   ]
  },
  {
   "cell_type": "raw",
   "id": "6c04efea-ac29-41fe-a824-015554c1ea16",
   "metadata": {},
   "source": [
    "\n",
    "You can also use the below code to just display the image your feeding into the model to double check its actually working "
   ]
  },
  {
   "cell_type": "code",
   "execution_count": 16,
   "id": "455f60bd-3a66-48f6-ad92-3ff28f0b72f0",
   "metadata": {
    "tags": []
   },
   "outputs": [
    {
     "data": {
      "text/plain": [
       "<Axes: >"
      ]
     },
     "execution_count": 16,
     "metadata": {},
     "output_type": "execute_result"
    },
    {
     "data": {
      "image/png": "[encoded data removed]",
      "text/plain": [
       "<Figure size 500x500 with 1 Axes>"
      ]
     },
     "metadata": {},
     "output_type": "display_data"
    }
   ],
   "source": [
    "image_data.show()"
   ]
  }
 ],
 "metadata": {
  "kernelspec": {
   "display_name": "Python 3 (ipykernel)",
   "language": "python",
   "name": "python3"
  },
  "language_info": {
   "codemirror_mode": {
    "name": "ipython",
    "version": 3
   },
   "file_extension": ".py",
   "mimetype": "text/x-python",
   "name": "python",
   "nbconvert_exporter": "python",
   "pygments_lexer": "ipython3",
   "version": "3.11.5"
  }
 },
 "nbformat": 4,
 "nbformat_minor": 5
}
