{
 "cells": [
  {
   "cell_type": "raw",
   "id": "613672bb-98e4-4f61-8eac-c73d4bf6a0fb",
   "metadata": {},
   "source": [
    "Welcome to a simple guide to image Segmentation\n",
    "\n",
    "The first step as always is to import the assorted packages \n",
    "\n",
    "Pandas to work with dataframes to organise data\n",
    "os to navigate around folders \n",
    "Fastai to do the ai stuff\n",
    "\n",
    "# make dataset of hand writing \n",
    "# make dataset of finding person from their hand writing "
   ]
  },
  {
   "cell_type": "code",
   "execution_count": 1,
   "id": "ecc8253d-ebc8-42d5-bb5a-62149701c775",
   "metadata": {
    "tags": []
   },
   "outputs": [
    {
     "name": "stderr",
     "output_type": "stream",
     "text": [
      "C:\\Users\\bowan\\anaconda3\\Lib\\site-packages\\pandas\\core\\arrays\\masked.py:60: UserWarning: Pandas requires version '1.3.6' or newer of 'bottleneck' (version '1.3.5' currently installed).\n",
      "  from pandas.core import (\n"
     ]
    }
   ],
   "source": [
    "import pandas as pd\n",
    "import os\n",
    "from fastai.vision.all import *"
   ]
  },
  {
   "cell_type": "code",
   "execution_count": null,
   "id": "eeff6024-b758-46ab-ba48-77871c44c603",
   "metadata": {},
   "outputs": [],
   "source": []
  },
  {
   "cell_type": "code",
   "execution_count": null,
   "id": "544a13ff-be85-4ac7-859f-d2a23aa47363",
   "metadata": {},
   "outputs": [],
   "source": [
    "Dataframe_path = '../image_data_assorted.csv'\n",
    "\n",
    "if os.path.exists(Dataframe_path):\n",
    "    print(\"The file exists.\")\n",
    "else:\n",
    "    %run ../Generating_basic_data.ipynb"
   ]
  },
  {
   "cell_type": "raw",
   "id": "0ada96fc-f67f-43ec-8857-ebc76550a711",
   "metadata": {},
   "source": [
    "\n",
    "The next step is to load the data, this document comes with data based on assorted shapes, which can be easily to what you desire. "
   ]
  },
  {
   "cell_type": "code",
   "execution_count": 2,
   "id": "44524514-fa19-49ad-a04d-ac4834f3de77",
   "metadata": {
    "tags": []
   },
   "outputs": [],
   "source": [
    "\n",
    "df = pd.read_csv('../image_data_assorted.csv')"
   ]
  },
  {
   "cell_type": "raw",
   "id": "b0148c80-0826-4b9a-8517-7371b69a3487",
   "metadata": {},
   "source": [
    "The default data is a 1000 images of assorted shaped randomly generated. \n",
    "Having a random shape chosen of a circle, triangle or square.  \n",
    "Having there size and position randomly chosen.\n",
    "Having a number of other variable producally generated from the size."
   ]
  },
  {
   "cell_type": "code",
   "execution_count": 3,
   "id": "4281009b-63c9-40fe-b757-d4c9616529b7",
   "metadata": {
    "tags": []
   },
   "outputs": [
    {
     "data": {
      "text/html": [
       "<div>\n",
       "<style scoped>\n",
       "    .dataframe tbody tr th:only-of-type {\n",
       "        vertical-align: middle;\n",
       "    }\n",
       "\n",
       "    .dataframe tbody tr th {\n",
       "        vertical-align: top;\n",
       "    }\n",
       "\n",
       "    .dataframe thead th {\n",
       "        text-align: right;\n",
       "    }\n",
       "</style>\n",
       "<table border=\"1\" class=\"dataframe\">\n",
       "  <thead>\n",
       "    <tr style=\"text-align: right;\">\n",
       "      <th></th>\n",
       "      <th>Radius</th>\n",
       "      <th>X_Position</th>\n",
       "      <th>Y_Position</th>\n",
       "      <th>Area</th>\n",
       "      <th>Surface2d</th>\n",
       "      <th>Volume</th>\n",
       "      <th>image_path</th>\n",
       "      <th>mask_path</th>\n",
       "      <th>shape</th>\n",
       "    </tr>\n",
       "  </thead>\n",
       "  <tbody>\n",
       "    <tr>\n",
       "      <th>0</th>\n",
       "      <td>26</td>\n",
       "      <td>216</td>\n",
       "      <td>360</td>\n",
       "      <td>2123</td>\n",
       "      <td>82</td>\n",
       "      <td>73585</td>\n",
       "      <td>../images_assorted/image_1.png</td>\n",
       "      <td>../masks_assorted/mask_1.png</td>\n",
       "      <td>circle</td>\n",
       "    </tr>\n",
       "    <tr>\n",
       "      <th>1</th>\n",
       "      <td>56</td>\n",
       "      <td>285</td>\n",
       "      <td>248</td>\n",
       "      <td>3136</td>\n",
       "      <td>224</td>\n",
       "      <td>175616</td>\n",
       "      <td>../images_assorted/image_2.png</td>\n",
       "      <td>../masks_assorted/mask_2.png</td>\n",
       "      <td>square</td>\n",
       "    </tr>\n",
       "    <tr>\n",
       "      <th>2</th>\n",
       "      <td>16</td>\n",
       "      <td>69</td>\n",
       "      <td>205</td>\n",
       "      <td>256</td>\n",
       "      <td>64</td>\n",
       "      <td>4096</td>\n",
       "      <td>../images_assorted/image_3.png</td>\n",
       "      <td>../masks_assorted/mask_3.png</td>\n",
       "      <td>square</td>\n",
       "    </tr>\n",
       "    <tr>\n",
       "      <th>3</th>\n",
       "      <td>105</td>\n",
       "      <td>336</td>\n",
       "      <td>270</td>\n",
       "      <td>34618</td>\n",
       "      <td>330</td>\n",
       "      <td>4846590</td>\n",
       "      <td>../images_assorted/image_4.png</td>\n",
       "      <td>../masks_assorted/mask_4.png</td>\n",
       "      <td>circle</td>\n",
       "    </tr>\n",
       "    <tr>\n",
       "      <th>4</th>\n",
       "      <td>99</td>\n",
       "      <td>182</td>\n",
       "      <td>295</td>\n",
       "      <td>4900</td>\n",
       "      <td>338</td>\n",
       "      <td>970299</td>\n",
       "      <td>../images_assorted/image_5.png</td>\n",
       "      <td>../masks_assorted/mask_5.png</td>\n",
       "      <td>triange</td>\n",
       "    </tr>\n",
       "  </tbody>\n",
       "</table>\n",
       "</div>"
      ],
      "text/plain": [
       "   Radius  X_Position  Y_Position   Area  Surface2d   Volume  \\\n",
       "0      26         216         360   2123         82    73585   \n",
       "1      56         285         248   3136        224   175616   \n",
       "2      16          69         205    256         64     4096   \n",
       "3     105         336         270  34618        330  4846590   \n",
       "4      99         182         295   4900        338   970299   \n",
       "\n",
       "                       image_path                     mask_path    shape  \n",
       "0  ../images_assorted/image_1.png  ../masks_assorted/mask_1.png   circle  \n",
       "1  ../images_assorted/image_2.png  ../masks_assorted/mask_2.png   square  \n",
       "2  ../images_assorted/image_3.png  ../masks_assorted/mask_3.png   square  \n",
       "3  ../images_assorted/image_4.png  ../masks_assorted/mask_4.png   circle  \n",
       "4  ../images_assorted/image_5.png  ../masks_assorted/mask_5.png  triange  "
      ]
     },
     "execution_count": 3,
     "metadata": {},
     "output_type": "execute_result"
    }
   ],
   "source": [
    "df.head()"
   ]
  },
  {
   "cell_type": "raw",
   "id": "b45ba833-5a2a-411a-b89d-2691d662b368",
   "metadata": {},
   "source": [
    "We now need to setup two functions to tell the code how to extract infomation from the dataframe. \n",
    "\n",
    "In this case how to\n",
    "Get the input image.\n",
    "and\n",
    "Get the shape data."
   ]
  },
  {
   "cell_type": "code",
   "execution_count": 4,
   "id": "d36d46ef-cce5-4221-99f0-f5498bbc07e6",
   "metadata": {},
   "outputs": [],
   "source": [
    "def get_inputs(row):\n",
    "    # Convert image path to PILImage\n",
    "    image_data = PILImage.create(row['image_path'])\n",
    "    return image_data \n",
    "\n",
    "def get_target(row):\n",
    "    # Convert image path to PILImage\n",
    "    target_data = row['mask_path']\n",
    "    return target_data"
   ]
  },
  {
   "cell_type": "raw",
   "id": "84572333-9c42-4ecb-ac5d-4d62172a0871",
   "metadata": {},
   "source": [
    "We can then setup the DataBlock \n",
    "\n",
    "We first tell it what data to expect in the input, and the target. \n",
    "As we are doing image classification we tell it we are going to give it an image Therefore ImageBlock and that it needs to assign it a Segmentation therefore a MaskBlock, however when setting up a mask block you must give it the a list of strings to assign a label.\n",
    "\n",
    "We then tell it how its going to get the data, with it using the logic of y = f(x) where x represents inputs and y as the output. \n",
    "\n",
    "So we tell it to get x it needs to use our custom made function get_inputs and to get y it using get_target\n",
    "\n",
    "I have left commented out two extra paramaters the first splitter controls how data is split between test and validation datasets and given it a fixed seed to help you truoble shoot. The other one will resize the image to a square image of the resolution you input. \n",
    "\n",
    "\n"
   ]
  },
  {
   "cell_type": "code",
   "execution_count": 5,
   "id": "da03e26d-c37f-4732-b235-3b3901dd286d",
   "metadata": {},
   "outputs": [],
   "source": [
    "codes = ['blank','background', 'object'] # remember 0 is first entry so pixels 1, 2 ,3 etc need a dummy entry for 0\n",
    "\n",
    "dblock = DataBlock(\n",
    "    blocks=(ImageBlock, MaskBlock(codes=codes)),  # Image input and auxiliary input\n",
    "    get_x=get_inputs,  # Get both the image path and the auxiliary input\n",
    "    get_y=get_target,  # Get the radius value from the dataframe\n",
    "    #splitter=RandomSplitter(valid_pct=0.2, seed=42),  # Split into train and validation sets\n",
    "    #item_tfms=Resize(512)  # Resize images to 512x512\n",
    "\n",
    ")"
   ]
  },
  {
   "cell_type": "raw",
   "id": "0f81442b-ca3e-406e-8b25-29ab63ae83be",
   "metadata": {},
   "source": [
    "Next we create the dataloader. We pass the dataframe through the datablock (also batch size)"
   ]
  },
  {
   "cell_type": "code",
   "execution_count": 6,
   "id": "aec2c691-53f8-407c-85a3-4ab521c545fb",
   "metadata": {},
   "outputs": [],
   "source": [
    "dls = dblock.dataloaders(df, bs=4)\n"
   ]
  },
  {
   "cell_type": "raw",
   "id": "f5015d6a-3bd1-4ce2-9332-1000ee727b5e",
   "metadata": {},
   "source": [
    "To determin if the dataloader is working correctly we can display a number of its results using the following code. \n",
    "\n",
    "When using defult data it should show red background with blue shapes. Its ugly but apprently best for colorblindnes. \n",
    "\n",
    "A filter is displayed over the images so just adding a some extra lines so you can see what it looks like without the filter "
   ]
  },
  {
   "cell_type": "code",
   "execution_count": 7,
   "id": "9d333f59-13e9-47e6-a3e5-dc9d9a30b0bf",
   "metadata": {
    "tags": []
   },
   "outputs": [
    {
     "data": {
      "image/png": "[encoded data removed]",
      "text/plain": [
       "<Figure size 500x500 with 1 Axes>"
      ]
     },
     "metadata": {},
     "output_type": "display_data"
    },
    {
     "data": {
      "image/png": "[encoded data removed]",
      "text/plain": [
       "<Figure size 600x600 with 4 Axes>"
      ]
     },
     "metadata": {},
     "output_type": "display_data"
    }
   ],
   "source": [
    "\n",
    "image_paths = df['image_path']\n",
    "image_data = PILImage.create(image_paths[4])\n",
    "image_data.show()\n",
    "\n",
    "#print('filtered batched data below')\n",
    "\n",
    "dls.show_batch()"
   ]
  },
  {
   "cell_type": "code",
   "execution_count": null,
   "id": "1cd578cf-b8e8-4048-89a1-f9e88a5c8307",
   "metadata": {
    "tags": []
   },
   "outputs": [],
   "source": []
  },
  {
   "cell_type": "raw",
   "id": "5e9b5265-0ebb-4ccf-8b75-6c5006da76eb",
   "metadata": {},
   "source": [
    "Next we setup the learner object, determine the model we will use and any additional metrics you would like to use. As we are doing imagesegmentaion we can use the unet_learner to convert the model we input into a unet model which is needed as we need to unpool the model to create the masks. \n",
    "\n",
    "For this I have chosen the resnet model resnet34, you can pick other models and if you need a more powerful model you increase the number next to resnet\n",
    "\n",
    "List of there models \n",
    "\n",
    "resnet18, resnet34, resnet50, resnet101, resnet110, resnet152, resnet164, resnet1202"
   ]
  },
  {
   "cell_type": "code",
   "execution_count": 8,
   "id": "37c87e48-e377-46ca-962c-690298afa0fe",
   "metadata": {
    "tags": []
   },
   "outputs": [],
   "source": [
    "# Create and train the learner\n",
    "learn = unet_learner(dls, resnet34, metrics=Dice)\n"
   ]
  },
  {
   "cell_type": "raw",
   "id": "60f370fe-2111-48ca-a917-d88b8f8c5dbb",
   "metadata": {},
   "source": [
    "Next we want to find the optium rate to train the model, the defualt value is generally ok most the time but we can do better with very little effort. \n",
    "\n",
    "Using the following line of code the code will attmept to autmotaclly find the optimium training speed \n",
    "\n",
    "Insert commons about interpretting the plot. \n",
    "\n",
    "guide to add images of traing speeds\n",
    "https://www.youtube.com/watch?v=TCpN2eKGrIY&ab_channel=CSKnowledgeAcademy"
   ]
  },
  {
   "cell_type": "code",
   "execution_count": 9,
   "id": "d304b8a4-0cb8-4a53-b913-d36d6f4ba7b9",
   "metadata": {
    "tags": []
   },
   "outputs": [
    {
     "data": {
      "text/html": [
       "\n",
       "<style>\n",
       "    /* Turns off some styling */\n",
       "    progress {\n",
       "        /* gets rid of default border in Firefox and Opera. */\n",
       "        border: none;\n",
       "        /* Needs to be in here for Safari polyfill so background images work as expected. */\n",
       "        background-size: auto;\n",
       "    }\n",
       "    progress:not([value]), progress:not([value])::-webkit-progress-bar {\n",
       "        background: repeating-linear-gradient(45deg, #7e7e7e, #7e7e7e 10px, #5c5c5c 10px, #5c5c5c 20px);\n",
       "    }\n",
       "    .progress-bar-interrupted, .progress-bar-interrupted::-webkit-progress-bar {\n",
       "        background: #F44336;\n",
       "    }\n",
       "</style>\n"
      ],
      "text/plain": [
       "<IPython.core.display.HTML object>"
      ]
     },
     "metadata": {},
     "output_type": "display_data"
    },
    {
     "data": {
      "text/html": [],
      "text/plain": [
       "<IPython.core.display.HTML object>"
      ]
     },
     "metadata": {},
     "output_type": "display_data"
    },
    {
     "data": {
      "image/png": "[encoded data removed]",
      "text/plain": [
       "<Figure size 640x480 with 1 Axes>"
      ]
     },
     "metadata": {},
     "output_type": "display_data"
    }
   ],
   "source": [
    "lr_min,lr_steep = learn.lr_find(suggest_funcs=(minimum, steep))"
   ]
  },
  {
   "cell_type": "raw",
   "id": "96d6d1da-7312-4c77-9b81-a3741c8a26a8",
   "metadata": {},
   "source": [
    "Running the trainer "
   ]
  },
  {
   "cell_type": "code",
   "execution_count": 10,
   "id": "62ec3f5c-4669-47a9-9a0e-5246d747b73c",
   "metadata": {
    "tags": []
   },
   "outputs": [
    {
     "data": {
      "text/html": [
       "\n",
       "<style>\n",
       "    /* Turns off some styling */\n",
       "    progress {\n",
       "        /* gets rid of default border in Firefox and Opera. */\n",
       "        border: none;\n",
       "        /* Needs to be in here for Safari polyfill so background images work as expected. */\n",
       "        background-size: auto;\n",
       "    }\n",
       "    progress:not([value]), progress:not([value])::-webkit-progress-bar {\n",
       "        background: repeating-linear-gradient(45deg, #7e7e7e, #7e7e7e 10px, #5c5c5c 10px, #5c5c5c 20px);\n",
       "    }\n",
       "    .progress-bar-interrupted, .progress-bar-interrupted::-webkit-progress-bar {\n",
       "        background: #F44336;\n",
       "    }\n",
       "</style>\n"
      ],
      "text/plain": [
       "<IPython.core.display.HTML object>"
      ]
     },
     "metadata": {},
     "output_type": "display_data"
    },
    {
     "data": {
      "text/html": [
       "<table border=\"1\" class=\"dataframe\">\n",
       "  <thead>\n",
       "    <tr style=\"text-align: left;\">\n",
       "      <th>epoch</th>\n",
       "      <th>train_loss</th>\n",
       "      <th>valid_loss</th>\n",
       "      <th>dice</th>\n",
       "      <th>time</th>\n",
       "    </tr>\n",
       "  </thead>\n",
       "  <tbody>\n",
       "    <tr>\n",
       "      <td>0</td>\n",
       "      <td>0.047118</td>\n",
       "      <td>0.002602</td>\n",
       "      <td>1.060205</td>\n",
       "      <td>00:48</td>\n",
       "    </tr>\n",
       "  </tbody>\n",
       "</table>"
      ],
      "text/plain": [
       "<IPython.core.display.HTML object>"
      ]
     },
     "metadata": {},
     "output_type": "display_data"
    },
    {
     "data": {
      "text/html": [
       "\n",
       "<style>\n",
       "    /* Turns off some styling */\n",
       "    progress {\n",
       "        /* gets rid of default border in Firefox and Opera. */\n",
       "        border: none;\n",
       "        /* Needs to be in here for Safari polyfill so background images work as expected. */\n",
       "        background-size: auto;\n",
       "    }\n",
       "    progress:not([value]), progress:not([value])::-webkit-progress-bar {\n",
       "        background: repeating-linear-gradient(45deg, #7e7e7e, #7e7e7e 10px, #5c5c5c 10px, #5c5c5c 20px);\n",
       "    }\n",
       "    .progress-bar-interrupted, .progress-bar-interrupted::-webkit-progress-bar {\n",
       "        background: #F44336;\n",
       "    }\n",
       "</style>\n"
      ],
      "text/plain": [
       "<IPython.core.display.HTML object>"
      ]
     },
     "metadata": {},
     "output_type": "display_data"
    },
    {
     "data": {
      "text/html": [
       "\n",
       "    <div>\n",
       "      <progress value='5' class='' max='10' style='width:300px; height:20px; vertical-align: middle;'></progress>\n",
       "      50.00% [5/10 03:59&lt;03:59]\n",
       "    </div>\n",
       "    \n",
       "<table border=\"1\" class=\"dataframe\">\n",
       "  <thead>\n",
       "    <tr style=\"text-align: left;\">\n",
       "      <th>epoch</th>\n",
       "      <th>train_loss</th>\n",
       "      <th>valid_loss</th>\n",
       "      <th>dice</th>\n",
       "      <th>time</th>\n",
       "    </tr>\n",
       "  </thead>\n",
       "  <tbody>\n",
       "    <tr>\n",
       "      <td>0</td>\n",
       "      <td>0.001414</td>\n",
       "      <td>0.001123</td>\n",
       "      <td>1.060621</td>\n",
       "      <td>00:47</td>\n",
       "    </tr>\n",
       "    <tr>\n",
       "      <td>1</td>\n",
       "      <td>0.000532</td>\n",
       "      <td>0.000516</td>\n",
       "      <td>1.060684</td>\n",
       "      <td>00:48</td>\n",
       "    </tr>\n",
       "    <tr>\n",
       "      <td>2</td>\n",
       "      <td>0.000282</td>\n",
       "      <td>0.000318</td>\n",
       "      <td>1.060783</td>\n",
       "      <td>00:47</td>\n",
       "    </tr>\n",
       "    <tr>\n",
       "      <td>3</td>\n",
       "      <td>0.000171</td>\n",
       "      <td>0.000210</td>\n",
       "      <td>1.060786</td>\n",
       "      <td>00:47</td>\n",
       "    </tr>\n",
       "    <tr>\n",
       "      <td>4</td>\n",
       "      <td>0.000120</td>\n",
       "      <td>0.000127</td>\n",
       "      <td>1.060780</td>\n",
       "      <td>00:47</td>\n",
       "    </tr>\n",
       "  </tbody>\n",
       "</table><p>\n",
       "\n",
       "    <div>\n",
       "      <progress value='12' class='' max='200' style='width:300px; height:20px; vertical-align: middle;'></progress>\n",
       "      6.00% [12/200 00:02&lt;00:40 0.0001]\n",
       "    </div>\n",
       "    "
      ],
      "text/plain": [
       "<IPython.core.display.HTML object>"
      ]
     },
     "metadata": {},
     "output_type": "display_data"
    },
    {
     "name": "stderr",
     "output_type": "stream",
     "text": [
      "\n",
      "KeyboardInterrupt\n",
      "\n"
     ]
    }
   ],
   "source": [
    "learn.fine_tune(10, base_lr=lr_steep)"
   ]
  },
  {
   "cell_type": "raw",
   "id": "20d79cdd-2bad-46ce-9f6c-3eafb1132f09",
   "metadata": {},
   "source": [
    "An important part of understanding the training process is to actually look at how the loss values change over each epoch (it using all the data points once). \n",
    "\n",
    "plot train vs validation plots \n"
   ]
  },
  {
   "cell_type": "code",
   "execution_count": 11,
   "id": "3ae5f95a-8fa2-40cc-8a4e-cbe298af3e07",
   "metadata": {
    "tags": []
   },
   "outputs": [
    {
     "name": "stdout",
     "output_type": "stream",
     "text": [
      "<bound method Recorder.plot_loss of Recorder>\n"
     ]
    },
    {
     "data": {
      "image/png": "[encoded data removed]",
      "text/plain": [
       "<Figure size 640x480 with 1 Axes>"
      ]
     },
     "metadata": {},
     "output_type": "display_data"
    }
   ],
   "source": [
    "# Plot the losses\n",
    "learn.recorder.plot_loss()\n",
    "print(learn.recorder.plot_loss)\n",
    "# Set the y-axis limits (replace with your desired limits)\n",
    "#plt.ylim(0, 5)  # sets y-axis limits \n",
    "# Show the plot with updated y-limits\n",
    "plt.show()"
   ]
  },
  {
   "cell_type": "raw",
   "id": "719bed66-58de-441c-9ac5-3a1f469bb4e7",
   "metadata": {},
   "source": [
    "Comments about loss "
   ]
  },
  {
   "cell_type": "code",
   "execution_count": null,
   "id": "a54d741b-9b88-42f5-bbea-7468508bf903",
   "metadata": {},
   "outputs": [],
   "source": []
  },
  {
   "cell_type": "raw",
   "id": "3fc28a49-7992-4796-a631-a1f239985b16",
   "metadata": {},
   "source": [
    "plotting a confusion matrix \n",
    "\n",
    "The following code will return a confusion matrix for the validation dataset. \n",
    "\n",
    "This will show what the model is getting corrent and what its getting wrong. This applies to classifiaction tasks. \n"
   ]
  },
  {
   "cell_type": "code",
   "execution_count": null,
   "id": "552835b9-0283-49e6-9c53-9281bcd15312",
   "metadata": {
    "tags": []
   },
   "outputs": [],
   "source": []
  },
  {
   "cell_type": "raw",
   "id": "5b670a03-034f-4343-a6e2-c63451d593bd",
   "metadata": {},
   "source": [
    "How to export the model for future use"
   ]
  },
  {
   "cell_type": "code",
   "execution_count": 12,
   "id": "6cf3dc0a-6948-42db-b4af-cd8d326ccd10",
   "metadata": {},
   "outputs": [],
   "source": [
    "\n",
    "\n",
    "learn.export('exported_segmentation_model.pkl')\n",
    " \n"
   ]
  },
  {
   "cell_type": "raw",
   "id": "6e95b32a-3b54-4af2-abc6-7a28f669be9b",
   "metadata": {},
   "source": [
    "\n",
    "And thats it congradulations you now know how to do machine learning you can now put AI skills on your resume. The skynet is the limit. "
   ]
  },
  {
   "cell_type": "raw",
   "id": "f1e9d2db-f04c-4fe0-9195-d6788605b720",
   "metadata": {},
   "source": [
    "How to import and use as a regular function"
   ]
  },
  {
   "cell_type": "code",
   "execution_count": 13,
   "id": "f1b99a37-35f4-4fb6-bfcd-3d3822063e9a",
   "metadata": {},
   "outputs": [],
   "source": [
    "# import\n",
    "\n",
    "learn2 = load_learner('exported_segmentation_model.pkl')   # using learner2 to show its loading\n"
   ]
  },
  {
   "cell_type": "raw",
   "id": "722a3ade-9e4e-4d2e-86dd-bee95a6b3e50",
   "metadata": {},
   "source": [
    "We can now feed an image into the model and see the output \n",
    "\n",
    "The actual predicted mask can be found in the zeroth position of the tuple  \n"
   ]
  },
  {
   "cell_type": "code",
   "execution_count": 31,
   "id": "bed34252-d90c-411d-86d8-95a7b2c2543d",
   "metadata": {
    "tags": []
   },
   "outputs": [
    {
     "data": {
      "text/html": [
       "\n",
       "<style>\n",
       "    /* Turns off some styling */\n",
       "    progress {\n",
       "        /* gets rid of default border in Firefox and Opera. */\n",
       "        border: none;\n",
       "        /* Needs to be in here for Safari polyfill so background images work as expected. */\n",
       "        background-size: auto;\n",
       "    }\n",
       "    progress:not([value]), progress:not([value])::-webkit-progress-bar {\n",
       "        background: repeating-linear-gradient(45deg, #7e7e7e, #7e7e7e 10px, #5c5c5c 10px, #5c5c5c 20px);\n",
       "    }\n",
       "    .progress-bar-interrupted, .progress-bar-interrupted::-webkit-progress-bar {\n",
       "        background: #F44336;\n",
       "    }\n",
       "</style>\n"
      ],
      "text/plain": [
       "<IPython.core.display.HTML object>"
      ]
     },
     "metadata": {},
     "output_type": "display_data"
    },
    {
     "data": {
      "text/html": [],
      "text/plain": [
       "<IPython.core.display.HTML object>"
      ]
     },
     "metadata": {},
     "output_type": "display_data"
    },
    {
     "name": "stdout",
     "output_type": "stream",
     "text": [
      "<class 'fastai.torch_core.TensorMask'>\n",
      "<class 'fastai.torch_core.TensorBase'>\n",
      "<class 'fastai.torch_core.TensorBase'>\n",
      "torch.Size([512, 512])\n",
      "torch.Size([512, 512])\n",
      "torch.Size([3, 512, 512])\n"
     ]
    },
    {
     "data": {
      "text/plain": [
       "<Axes: >"
      ]
     },
     "execution_count": 31,
     "metadata": {},
     "output_type": "execute_result"
    },
    {
     "data": {
      "image/png": "[encoded data removed]",
      "text/plain": [
       "<Figure size 500x500 with 1 Axes>"
      ]
     },
     "metadata": {},
     "output_type": "display_data"
    }
   ],
   "source": [
    "# just getting a random image from df\n",
    "image_paths = df['image_path']\n",
    "image_data = PILImage.create(image_paths[3])\n",
    "prediction, classid, probablities = learn2.predict(image_data)\n",
    "\n",
    "print(type(prediction))\n",
    "print(type(classid))\n",
    "print(type(probablities))\n",
    "\n",
    "print(prediction.shape)\n",
    "print(classid.shape)\n",
    "print(probablities.shape)\n",
    "\n",
    "prediction.show()\n",
    "#print(prediction.shape)\n",
    "#print(type(prediction))"
   ]
  },
  {
   "cell_type": "code",
   "execution_count": 15,
   "id": "559e0ec9-2f19-480c-9156-f4b870f42cc0",
   "metadata": {
    "tags": []
   },
   "outputs": [
    {
     "data": {
      "text/plain": [
       "<Axes: >"
      ]
     },
     "execution_count": 15,
     "metadata": {},
     "output_type": "execute_result"
    },
    {
     "data": {
      "image/png": "[encoded data removed]",
      "text/plain": [
       "<Figure size 500x500 with 1 Axes>"
      ]
     },
     "metadata": {},
     "output_type": "display_data"
    }
   ],
   "source": [
    "prediction.show()"
   ]
  },
  {
   "cell_type": "code",
   "execution_count": 38,
   "id": "0a0839bd-0699-4768-950f-13a978cc7ad1",
   "metadata": {
    "tags": []
   },
   "outputs": [
    {
     "data": {
      "text/plain": [
       "TensorBase([[1.2812e-02, 3.9902e-03, 7.4488e-03,  ..., 2.5706e-03,\n",
       "             1.3397e-03, 6.2161e-03],\n",
       "            [1.2152e-02, 1.9111e-03, 1.8915e-03,  ..., 1.5113e-03,\n",
       "             3.5214e-04, 1.3500e-03],\n",
       "            [2.9141e-03, 5.3543e-04, 3.4961e-04,  ..., 4.2192e-05,\n",
       "             2.7682e-04, 4.6053e-04],\n",
       "            ...,\n",
       "            [1.1618e-02, 1.5462e-03, 1.1648e-04,  ..., 4.6206e-04,\n",
       "             1.8806e-03, 1.0124e-03],\n",
       "            [1.5968e-02, 8.2671e-03, 1.4672e-04,  ..., 2.5103e-03,\n",
       "             1.0484e-02, 1.0381e-02],\n",
       "            [2.2267e-02, 1.3349e-02, 5.4699e-04,  ..., 4.6690e-03,\n",
       "             1.6620e-02, 2.9692e-02]])"
      ]
     },
     "execution_count": 38,
     "metadata": {},
     "output_type": "execute_result"
    }
   ],
   "source": [
    "probablities[0]"
   ]
  },
  {
   "cell_type": "code",
   "execution_count": 32,
   "id": "455f60bd-3a66-48f6-ad92-3ff28f0b72f0",
   "metadata": {
    "tags": []
   },
   "outputs": [
    {
     "data": {
      "text/plain": [
       "<Axes: >"
      ]
     },
     "execution_count": 32,
     "metadata": {},
     "output_type": "execute_result"
    },
    {
     "data": {
      "image/png": "[encoded data removed]",
      "text/plain": [
       "<Figure size 500x500 with 1 Axes>"
      ]
     },
     "metadata": {},
     "output_type": "display_data"
    }
   ],
   "source": [
    "image_data.show()"
   ]
  },
  {
   "cell_type": "code",
   "execution_count": 40,
   "id": "3e039e0e-9a5e-491f-bd17-72239b1619bc",
   "metadata": {},
   "outputs": [
    {
     "data": {
      "text/plain": [
       "TensorMask([1, 1, 1, 1, 1, 1, 1, 1, 1, 1, 1, 1, 1, 1, 1, 1, 1, 1, 1, 1, 1, 1, 1,\n",
       "            1, 1, 1, 1, 1, 1, 1, 1, 1, 1, 1, 1, 1, 1, 1, 1, 1, 1, 1, 1, 1, 1, 1,\n",
       "            1, 1, 1, 1, 1, 1, 1, 1, 1, 1, 1, 1, 1, 1, 1, 1, 1, 1, 1, 1, 1, 1, 1,\n",
       "            1, 1, 1, 1, 1, 1, 1, 1, 1, 1, 1, 1, 1, 1, 1, 1, 1, 1, 1, 1, 1, 1, 1,\n",
       "            1, 1, 1, 1, 1, 1, 1, 1, 1, 1, 1, 1, 1, 1, 1, 1, 1, 1, 1, 1, 1, 1, 1,\n",
       "            1, 1, 1, 1, 1, 1, 1, 1, 1, 1, 1, 1, 1, 1, 1, 1, 1, 1, 1, 1, 1, 1, 1,\n",
       "            1, 1, 1, 1, 1, 1, 1, 1, 1, 1, 1, 1, 1, 1, 1, 1, 1, 1, 1, 1, 1, 1, 1,\n",
       "            1, 1, 1, 1, 1, 1, 1, 1, 1, 1, 1, 1, 1, 1, 1, 1, 1, 1, 1, 1, 1, 1, 1,\n",
       "            1, 1, 1, 1, 1, 1, 1, 1, 1, 1, 1, 1, 1, 1, 1, 1, 1, 1, 1, 1, 1, 1, 1,\n",
       "            1, 1, 1, 1, 1, 1, 1, 1, 1, 1, 1, 1, 1, 1, 1, 1, 1, 1, 1, 1, 1, 1, 1,\n",
       "            1, 2, 2, 2, 2, 2, 2, 2, 2, 2, 2, 2, 2, 2, 2, 2, 2, 2, 2, 2, 2, 2, 2,\n",
       "            2, 2, 2, 2, 2, 2, 2, 2, 2, 2, 2, 2, 2, 2, 2, 2, 2, 2, 2, 2, 2, 2, 2,\n",
       "            2, 2, 2, 2, 2, 2, 2, 2, 2, 2, 2, 2, 2, 2, 2, 2, 2, 2, 2, 2, 2, 2, 2,\n",
       "            2, 2, 2, 2, 2, 2, 2, 2, 2, 2, 2, 2, 2, 2, 2, 2, 2, 2, 2, 2, 2, 2, 2,\n",
       "            2, 2, 2, 2, 2, 2, 2, 2, 2, 2, 2, 2, 2, 2, 2, 2, 2, 2, 2, 2, 2, 2, 2,\n",
       "            2, 2, 2, 2, 2, 2, 2, 2, 2, 2, 2, 2, 2, 2, 2, 2, 2, 2, 2, 2, 2, 2, 2,\n",
       "            2, 2, 2, 2, 2, 2, 2, 2, 2, 2, 2, 2, 2, 2, 2, 2, 2, 2, 2, 2, 2, 2, 2,\n",
       "            2, 2, 2, 2, 2, 2, 2, 2, 2, 2, 2, 2, 2, 2, 2, 2, 2, 2, 2, 2, 2, 2, 2,\n",
       "            2, 2, 2, 2, 2, 2, 2, 2, 2, 2, 2, 2, 2, 2, 2, 2, 2, 2, 2, 2, 2, 2, 2,\n",
       "            2, 2, 2, 1, 1, 1, 1, 1, 1, 1, 1, 1, 1, 1, 1, 1, 1, 1, 1, 1, 1, 1, 1,\n",
       "            1, 1, 1, 1, 1, 1, 1, 1, 1, 1, 1, 1, 1, 1, 1, 1, 1, 1, 1, 1, 1, 1, 1,\n",
       "            1, 1, 1, 1, 1, 1, 1, 1, 1, 1, 1, 1, 1, 1, 1, 1, 1, 1, 1, 1, 1, 1, 1,\n",
       "            1, 1, 1, 1, 1, 1])"
      ]
     },
     "execution_count": 40,
     "metadata": {},
     "output_type": "execute_result"
    }
   ],
   "source": [
    "prediction[255]"
   ]
  },
  {
   "cell_type": "code",
   "execution_count": 42,
   "id": "37ce0cf0-d0dd-4176-b02b-2d8792e9faf5",
   "metadata": {
    "tags": []
   },
   "outputs": [
    {
     "data": {
      "text/plain": [
       "TensorBase([9.9944e-01, 9.9988e-01, 9.9999e-01, 1.0000e+00, 1.0000e+00,\n",
       "            1.0000e+00, 1.0000e+00, 1.0000e+00, 1.0000e+00, 1.0000e+00,\n",
       "            1.0000e+00, 1.0000e+00, 1.0000e+00, 1.0000e+00, 1.0000e+00,\n",
       "            1.0000e+00, 1.0000e+00, 1.0000e+00, 1.0000e+00, 1.0000e+00,\n",
       "            1.0000e+00, 1.0000e+00, 1.0000e+00, 1.0000e+00, 1.0000e+00,\n",
       "            1.0000e+00, 1.0000e+00, 1.0000e+00, 1.0000e+00, 1.0000e+00,\n",
       "            1.0000e+00, 1.0000e+00, 1.0000e+00, 1.0000e+00, 1.0000e+00,\n",
       "            1.0000e+00, 1.0000e+00, 1.0000e+00, 1.0000e+00, 1.0000e+00,\n",
       "            1.0000e+00, 1.0000e+00, 1.0000e+00, 1.0000e+00, 1.0000e+00,\n",
       "            1.0000e+00, 1.0000e+00, 1.0000e+00, 1.0000e+00, 1.0000e+00,\n",
       "            1.0000e+00, 1.0000e+00, 1.0000e+00, 1.0000e+00, 1.0000e+00,\n",
       "            1.0000e+00, 1.0000e+00, 1.0000e+00, 1.0000e+00, 1.0000e+00,\n",
       "            1.0000e+00, 1.0000e+00, 1.0000e+00, 1.0000e+00, 1.0000e+00,\n",
       "            1.0000e+00, 1.0000e+00, 1.0000e+00, 1.0000e+00, 1.0000e+00,\n",
       "            1.0000e+00, 1.0000e+00, 1.0000e+00, 1.0000e+00, 1.0000e+00,\n",
       "            1.0000e+00, 1.0000e+00, 1.0000e+00, 1.0000e+00, 1.0000e+00,\n",
       "            1.0000e+00, 1.0000e+00, 1.0000e+00, 1.0000e+00, 1.0000e+00,\n",
       "            1.0000e+00, 1.0000e+00, 1.0000e+00, 1.0000e+00, 1.0000e+00,\n",
       "            1.0000e+00, 1.0000e+00, 1.0000e+00, 1.0000e+00, 1.0000e+00,\n",
       "            1.0000e+00, 1.0000e+00, 1.0000e+00, 1.0000e+00, 1.0000e+00,\n",
       "            1.0000e+00, 1.0000e+00, 1.0000e+00, 1.0000e+00, 1.0000e+00,\n",
       "            1.0000e+00, 1.0000e+00, 1.0000e+00, 1.0000e+00, 1.0000e+00,\n",
       "            1.0000e+00, 1.0000e+00, 1.0000e+00, 1.0000e+00, 1.0000e+00,\n",
       "            1.0000e+00, 1.0000e+00, 1.0000e+00, 1.0000e+00, 1.0000e+00,\n",
       "            1.0000e+00, 1.0000e+00, 1.0000e+00, 1.0000e+00, 1.0000e+00,\n",
       "            1.0000e+00, 1.0000e+00, 1.0000e+00, 1.0000e+00, 1.0000e+00,\n",
       "            1.0000e+00, 1.0000e+00, 1.0000e+00, 1.0000e+00, 1.0000e+00,\n",
       "            1.0000e+00, 1.0000e+00, 1.0000e+00, 1.0000e+00, 1.0000e+00,\n",
       "            1.0000e+00, 1.0000e+00, 1.0000e+00, 1.0000e+00, 1.0000e+00,\n",
       "            1.0000e+00, 1.0000e+00, 1.0000e+00, 1.0000e+00, 1.0000e+00,\n",
       "            1.0000e+00, 1.0000e+00, 1.0000e+00, 1.0000e+00, 1.0000e+00,\n",
       "            1.0000e+00, 1.0000e+00, 1.0000e+00, 1.0000e+00, 1.0000e+00,\n",
       "            1.0000e+00, 1.0000e+00, 1.0000e+00, 1.0000e+00, 1.0000e+00,\n",
       "            1.0000e+00, 1.0000e+00, 1.0000e+00, 1.0000e+00, 1.0000e+00,\n",
       "            1.0000e+00, 1.0000e+00, 1.0000e+00, 1.0000e+00, 1.0000e+00,\n",
       "            1.0000e+00, 1.0000e+00, 1.0000e+00, 1.0000e+00, 1.0000e+00,\n",
       "            1.0000e+00, 1.0000e+00, 1.0000e+00, 1.0000e+00, 1.0000e+00,\n",
       "            1.0000e+00, 1.0000e+00, 1.0000e+00, 1.0000e+00, 1.0000e+00,\n",
       "            1.0000e+00, 1.0000e+00, 1.0000e+00, 1.0000e+00, 1.0000e+00,\n",
       "            1.0000e+00, 1.0000e+00, 1.0000e+00, 1.0000e+00, 1.0000e+00,\n",
       "            9.9999e-01, 9.9999e-01, 9.9999e-01, 1.0000e+00, 9.9999e-01,\n",
       "            9.9999e-01, 1.0000e+00, 1.0000e+00, 1.0000e+00, 1.0000e+00,\n",
       "            1.0000e+00, 1.0000e+00, 9.9999e-01, 9.9999e-01, 9.9999e-01,\n",
       "            9.9999e-01, 9.9997e-01, 9.9996e-01, 9.9998e-01, 9.9999e-01,\n",
       "            1.0000e+00, 1.0000e+00, 1.0000e+00, 1.0000e+00, 1.0000e+00,\n",
       "            1.0000e+00, 1.0000e+00, 1.0000e+00, 1.0000e+00, 1.0000e+00,\n",
       "            9.9986e-01, 1.7255e-01, 5.3047e-06, 7.4608e-08, 6.9945e-07,\n",
       "            5.9567e-06, 5.6145e-06, 4.0229e-06, 3.2071e-06, 2.2352e-06,\n",
       "            3.1600e-06, 5.2340e-06, 9.7423e-06, 1.7290e-05, 1.4317e-05,\n",
       "            1.0538e-05, 1.5344e-05, 9.6988e-06, 9.3362e-06, 9.1175e-06,\n",
       "            5.0364e-06, 4.3167e-06, 3.5037e-06, 4.7362e-06, 4.9724e-06,\n",
       "            5.2079e-06, 3.8451e-06, 2.8523e-06, 3.8237e-06, 2.4830e-06,\n",
       "            2.8991e-06, 2.0732e-06, 2.6333e-06, 2.2420e-06, 4.0903e-06,\n",
       "            2.9864e-06, 3.7359e-06, 2.7523e-06, 2.8109e-06, 1.9917e-06,\n",
       "            2.4439e-06, 1.6779e-06, 2.6216e-06, 2.6086e-06, 4.0390e-06,\n",
       "            3.1504e-06, 3.8083e-06, 2.6012e-06, 3.7429e-06, 3.6580e-06,\n",
       "            4.0366e-06, 3.7924e-06, 6.2889e-06, 4.7273e-06, 5.0489e-06,\n",
       "            4.5965e-06, 4.7039e-06, 3.9249e-06, 3.9210e-06, 3.7058e-06,\n",
       "            4.5633e-06, 3.7430e-06, 3.1283e-06, 2.9780e-06, 3.6230e-06,\n",
       "            2.9103e-06, 3.5310e-06, 3.2441e-06, 3.9228e-06, 3.5446e-06,\n",
       "            3.6934e-06, 3.3386e-06, 3.4733e-06, 2.9339e-06, 3.2704e-06,\n",
       "            2.9454e-06, 3.3929e-06, 2.8056e-06, 3.3605e-06, 2.8554e-06,\n",
       "            3.2912e-06, 2.6878e-06, 3.0221e-06, 2.8496e-06, 3.6751e-06,\n",
       "            3.1082e-06, 3.5746e-06, 2.8879e-06, 3.2066e-06, 2.9318e-06,\n",
       "            3.4164e-06, 2.8234e-06, 4.0275e-06, 3.6083e-06, 3.5216e-06,\n",
       "            3.2221e-06, 3.6954e-06, 3.3518e-06, 3.5278e-06, 2.8002e-06,\n",
       "            4.2635e-06, 3.6633e-06, 3.6605e-06, 3.3393e-06, 3.7209e-06,\n",
       "            3.3187e-06, 3.8698e-06, 3.4267e-06, 3.9968e-06, 3.5450e-06,\n",
       "            3.7300e-06, 3.7751e-06, 4.4233e-06, 3.7833e-06, 4.1118e-06,\n",
       "            3.7288e-06, 4.7909e-06, 4.5155e-06, 4.4743e-06, 3.8691e-06,\n",
       "            4.0090e-06, 3.6644e-06, 3.9100e-06, 3.4538e-06, 3.9903e-06,\n",
       "            3.7865e-06, 3.7410e-06, 3.4834e-06, 4.0245e-06, 3.2591e-06,\n",
       "            3.2839e-06, 3.0225e-06, 4.4411e-06, 4.3051e-06, 3.8014e-06,\n",
       "            3.2397e-06, 3.5350e-06, 3.2665e-06, 3.4097e-06, 2.9012e-06,\n",
       "            3.5975e-06, 3.2167e-06, 2.8485e-06, 2.4902e-06, 3.0264e-06,\n",
       "            2.4768e-06, 2.9621e-06, 2.4904e-06, 3.9759e-06, 3.4886e-06,\n",
       "            3.7379e-06, 3.2157e-06, 3.6667e-06, 3.4417e-06, 4.0884e-06,\n",
       "            3.5192e-06, 3.6718e-06, 3.0817e-06, 4.0062e-06, 3.0557e-06,\n",
       "            3.8379e-06, 3.0388e-06, 3.9713e-06, 3.5728e-06, 4.3168e-06,\n",
       "            4.2849e-06, 4.1697e-06, 3.7803e-06, 5.1739e-06, 3.2034e-06,\n",
       "            3.6839e-06, 3.5300e-06, 6.1468e-06, 5.1397e-06, 6.1478e-06,\n",
       "            4.2960e-06, 5.7031e-06, 6.1867e-06, 7.3606e-06, 5.6913e-06,\n",
       "            5.6725e-06, 5.2790e-06, 4.8580e-06, 4.5788e-06, 6.9721e-06,\n",
       "            5.8610e-06, 5.7175e-06, 6.4188e-06, 1.8073e-05, 1.3011e-05,\n",
       "            1.5757e-05, 9.4053e-06, 7.3413e-06, 6.4827e-06, 4.4695e-06,\n",
       "            7.8315e-06, 1.6584e-05, 2.0289e-05, 8.1635e-06, 4.7772e-06,\n",
       "            9.1364e-06, 5.7518e-06, 4.5063e-06, 6.6745e-06, 7.2243e-07,\n",
       "            1.6462e-06, 2.2926e-06, 4.1237e-07, 6.1508e-06, 3.5708e-01,\n",
       "            9.9996e-01, 1.0000e+00, 1.0000e+00, 9.9999e-01, 1.0000e+00,\n",
       "            1.0000e+00, 1.0000e+00, 1.0000e+00, 1.0000e+00, 1.0000e+00,\n",
       "            1.0000e+00, 1.0000e+00, 1.0000e+00, 1.0000e+00, 1.0000e+00,\n",
       "            1.0000e+00, 1.0000e+00, 1.0000e+00, 1.0000e+00, 1.0000e+00,\n",
       "            1.0000e+00, 9.9999e-01, 9.9999e-01, 9.9999e-01, 9.9999e-01,\n",
       "            9.9999e-01, 9.9999e-01, 9.9999e-01, 9.9999e-01, 9.9999e-01,\n",
       "            9.9999e-01, 9.9997e-01, 9.9999e-01, 9.9998e-01, 9.9997e-01,\n",
       "            9.9995e-01, 9.9996e-01, 9.9996e-01, 9.9996e-01, 9.9997e-01,\n",
       "            9.9998e-01, 9.9998e-01, 9.9998e-01, 9.9999e-01, 9.9999e-01,\n",
       "            9.9999e-01, 9.9999e-01, 9.9999e-01, 9.9999e-01, 1.0000e+00,\n",
       "            1.0000e+00, 1.0000e+00, 1.0000e+00, 1.0000e+00, 9.9999e-01,\n",
       "            9.9999e-01, 9.9999e-01, 9.9999e-01, 9.9999e-01, 9.9999e-01,\n",
       "            9.9999e-01, 9.9999e-01, 9.9998e-01, 9.9997e-01, 9.9997e-01,\n",
       "            9.9991e-01, 9.9989e-01, 9.9985e-01, 9.9988e-01, 9.9987e-01,\n",
       "            9.9963e-01, 9.9905e-01])"
      ]
     },
     "execution_count": 42,
     "metadata": {},
     "output_type": "execute_result"
    }
   ],
   "source": [
    "probablities[1][255]"
   ]
  },
  {
   "cell_type": "code",
   "execution_count": null,
   "id": "ac73ee49-7b2f-436f-995c-15a123f0db6d",
   "metadata": {},
   "outputs": [],
   "source": []
  }
 ],
 "metadata": {
  "kernelspec": {
   "display_name": "Python 3 (ipykernel)",
   "language": "python",
   "name": "python3"
  },
  "language_info": {
   "codemirror_mode": {
    "name": "ipython",
    "version": 3
   },
   "file_extension": ".py",
   "mimetype": "text/x-python",
   "name": "python",
   "nbconvert_exporter": "python",
   "pygments_lexer": "ipython3",
   "version": "3.11.5"
  }
 },
 "nbformat": 4,
 "nbformat_minor": 5
}
