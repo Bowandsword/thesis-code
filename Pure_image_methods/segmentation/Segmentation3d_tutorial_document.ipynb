{
 "cells": [
  {
   "cell_type": "raw",
   "id": "613672bb-98e4-4f61-8eac-c73d4bf6a0fb",
   "metadata": {},
   "source": [
    "Welcome to a simple guide to image Segmentation\n",
    "\n",
    "The first step as always is to import the assorted packages \n",
    "\n",
    "Pandas to work with dataframes to organise data\n",
    "os to navigate around folders \n",
    "Fastai to do the ai stuff\n",
    "\n",
    "# make dataset of hand writing \n",
    "# make dataset of finding person from their hand writing "
   ]
  },
  {
   "cell_type": "code",
   "execution_count": 1,
   "id": "ecc8253d-ebc8-42d5-bb5a-62149701c775",
   "metadata": {
    "tags": []
   },
   "outputs": [
    {
     "name": "stderr",
     "output_type": "stream",
     "text": [
      "C:\\Users\\bowan\\anaconda3\\Lib\\site-packages\\pandas\\core\\arrays\\masked.py:60: UserWarning: Pandas requires version '1.3.6' or newer of 'bottleneck' (version '1.3.5' currently installed).\n",
      "  from pandas.core import (\n"
     ]
    }
   ],
   "source": [
    "import pandas as pd\n",
    "import os\n",
    "from fastai.vision.all import *"
   ]
  },
  {
   "cell_type": "raw",
   "id": "0ada96fc-f67f-43ec-8857-ebc76550a711",
   "metadata": {},
   "source": [
    "\n",
    "The next step is to load the data, this document comes with data based on assorted shapes, which can be easily to what you desire. "
   ]
  },
  {
   "cell_type": "code",
   "execution_count": 2,
   "id": "44524514-fa19-49ad-a04d-ac4834f3de77",
   "metadata": {
    "tags": []
   },
   "outputs": [],
   "source": [
    "\n",
    "df = pd.read_csv('../image_data_assorted.csv')"
   ]
  },
  {
   "cell_type": "raw",
   "id": "b0148c80-0826-4b9a-8517-7371b69a3487",
   "metadata": {},
   "source": [
    "The default data is a 1000 images of assorted shaped randomly generated. \n",
    "Having a random shape chosen of a circle, triangle or square.  \n",
    "Having there size and position randomly chosen.\n",
    "Having a number of other variable producally generated from the size."
   ]
  },
  {
   "cell_type": "code",
   "execution_count": 3,
   "id": "4281009b-63c9-40fe-b757-d4c9616529b7",
   "metadata": {
    "tags": []
   },
   "outputs": [
    {
     "data": {
      "text/html": [
       "<div>\n",
       "<style scoped>\n",
       "    .dataframe tbody tr th:only-of-type {\n",
       "        vertical-align: middle;\n",
       "    }\n",
       "\n",
       "    .dataframe tbody tr th {\n",
       "        vertical-align: top;\n",
       "    }\n",
       "\n",
       "    .dataframe thead th {\n",
       "        text-align: right;\n",
       "    }\n",
       "</style>\n",
       "<table border=\"1\" class=\"dataframe\">\n",
       "  <thead>\n",
       "    <tr style=\"text-align: right;\">\n",
       "      <th></th>\n",
       "      <th>Radius</th>\n",
       "      <th>X_Position</th>\n",
       "      <th>Y_Position</th>\n",
       "      <th>Area</th>\n",
       "      <th>Surface2d</th>\n",
       "      <th>Volume</th>\n",
       "      <th>image_path</th>\n",
       "      <th>mask_path</th>\n",
       "      <th>shape</th>\n",
       "    </tr>\n",
       "  </thead>\n",
       "  <tbody>\n",
       "    <tr>\n",
       "      <th>0</th>\n",
       "      <td>26</td>\n",
       "      <td>216</td>\n",
       "      <td>360</td>\n",
       "      <td>2123</td>\n",
       "      <td>82</td>\n",
       "      <td>73585</td>\n",
       "      <td>../images_assorted/image_1.png</td>\n",
       "      <td>../masks_assorted/mask_1.png</td>\n",
       "      <td>circle</td>\n",
       "    </tr>\n",
       "    <tr>\n",
       "      <th>1</th>\n",
       "      <td>56</td>\n",
       "      <td>285</td>\n",
       "      <td>248</td>\n",
       "      <td>3136</td>\n",
       "      <td>224</td>\n",
       "      <td>175616</td>\n",
       "      <td>../images_assorted/image_2.png</td>\n",
       "      <td>../masks_assorted/mask_2.png</td>\n",
       "      <td>square</td>\n",
       "    </tr>\n",
       "    <tr>\n",
       "      <th>2</th>\n",
       "      <td>16</td>\n",
       "      <td>69</td>\n",
       "      <td>205</td>\n",
       "      <td>256</td>\n",
       "      <td>64</td>\n",
       "      <td>4096</td>\n",
       "      <td>../images_assorted/image_3.png</td>\n",
       "      <td>../masks_assorted/mask_3.png</td>\n",
       "      <td>square</td>\n",
       "    </tr>\n",
       "    <tr>\n",
       "      <th>3</th>\n",
       "      <td>105</td>\n",
       "      <td>336</td>\n",
       "      <td>270</td>\n",
       "      <td>34618</td>\n",
       "      <td>330</td>\n",
       "      <td>4846590</td>\n",
       "      <td>../images_assorted/image_4.png</td>\n",
       "      <td>../masks_assorted/mask_4.png</td>\n",
       "      <td>circle</td>\n",
       "    </tr>\n",
       "    <tr>\n",
       "      <th>4</th>\n",
       "      <td>99</td>\n",
       "      <td>182</td>\n",
       "      <td>295</td>\n",
       "      <td>4900</td>\n",
       "      <td>338</td>\n",
       "      <td>970299</td>\n",
       "      <td>../images_assorted/image_5.png</td>\n",
       "      <td>../masks_assorted/mask_5.png</td>\n",
       "      <td>triange</td>\n",
       "    </tr>\n",
       "  </tbody>\n",
       "</table>\n",
       "</div>"
      ],
      "text/plain": [
       "   Radius  X_Position  Y_Position   Area  Surface2d   Volume  \\\n",
       "0      26         216         360   2123         82    73585   \n",
       "1      56         285         248   3136        224   175616   \n",
       "2      16          69         205    256         64     4096   \n",
       "3     105         336         270  34618        330  4846590   \n",
       "4      99         182         295   4900        338   970299   \n",
       "\n",
       "                       image_path                     mask_path    shape  \n",
       "0  ../images_assorted/image_1.png  ../masks_assorted/mask_1.png   circle  \n",
       "1  ../images_assorted/image_2.png  ../masks_assorted/mask_2.png   square  \n",
       "2  ../images_assorted/image_3.png  ../masks_assorted/mask_3.png   square  \n",
       "3  ../images_assorted/image_4.png  ../masks_assorted/mask_4.png   circle  \n",
       "4  ../images_assorted/image_5.png  ../masks_assorted/mask_5.png  triange  "
      ]
     },
     "execution_count": 3,
     "metadata": {},
     "output_type": "execute_result"
    }
   ],
   "source": [
    "df.head()"
   ]
  },
  {
   "cell_type": "raw",
   "id": "b45ba833-5a2a-411a-b89d-2691d662b368",
   "metadata": {},
   "source": [
    "We now need to setup two functions to tell the code how to extract infomation from the dataframe. \n",
    "\n",
    "In this case how to\n",
    "Get the input image.\n",
    "and\n",
    "Get the shape data."
   ]
  },
  {
   "cell_type": "code",
   "execution_count": 9,
   "id": "068cd2fa-db2f-46d3-b6aa-03246299591d",
   "metadata": {
    "tags": []
   },
   "outputs": [
    {
     "name": "stdout",
     "output_type": "stream",
     "text": [
      "torch.Size([3, 512, 512])\n",
      "torch.Size([3, 1024, 512])\n"
     ]
    }
   ],
   "source": [
    "from torchvision import transforms\n",
    "# just getting a random image from df\n",
    "image_paths = df['image_path']\n",
    "image_data = PILImage.create(image_paths[4])\n",
    "\n",
    "transform = transforms.ToTensor()\n",
    "image_tensor = transform(image_data)\n",
    "\n",
    "print(image_tensor.shape)  # Should output (3, 512, 512)\n",
    "\n",
    "# Stack two copies of the image tensor along the width\n",
    "stacked_tensor = torch.cat((image_tensor, image_tensor), dim=1)\n",
    "print(stacked_tensor.shape)  # Should output (3, 512, 1024)\n"
   ]
  },
  {
   "cell_type": "code",
   "execution_count": 20,
   "id": "d36d46ef-cce5-4221-99f0-f5498bbc07e6",
   "metadata": {},
   "outputs": [],
   "source": [
    "def get_inputs(row):\n",
    "    # Convert image path to PILImage\n",
    "    image_data = PILImage.create(row['image_path'])\n",
    "    \n",
    "    transform = transforms.ToTensor()\n",
    "    image_tensor = transform(image_data)\n",
    "    # Stack two copies of the image tensor along the width\n",
    "    stacked_tensor = torch.cat((image_tensor, image_tensor), dim=0)\n",
    "    print(stacked_tensor.shape)\n",
    "    return stacked_tensor \n",
    "\n",
    "def get_target(row):\n",
    "    # Convert image path to PILImage\n",
    "    target_data = row['mask_path']\n",
    "    return target_data"
   ]
  },
  {
   "cell_type": "raw",
   "id": "84572333-9c42-4ecb-ac5d-4d62172a0871",
   "metadata": {},
   "source": [
    "We can then setup the DataBlock \n",
    "\n",
    "We first tell it what data to expect in the input, and the target. \n",
    "As we are doing image classification we tell it we are going to give it an image Therefore TransformBlock which as far as I can tell just takes in generic tensor data and that it needs to assign it a Segmentation therefore a MaskBlock, however when setting up a mask block you must give it the a list of strings to assign a label.\n",
    "\n",
    "We then tell it how its going to get the data, with it using the logic of y = f(x) where x represents inputs and y as the output. \n",
    "\n",
    "So we tell it to get x it needs to use our custom made function get_inputs and to get y it using get_target\n",
    "\n",
    "I have left commented out two extra paramaters the first splitter controls how data is split between test and validation datasets and given it a fixed seed to help you truoble shoot. The other one will resize the image to a square image of the resolution you input. \n",
    "\n",
    "\n"
   ]
  },
  {
   "cell_type": "code",
   "execution_count": 21,
   "id": "da03e26d-c37f-4732-b235-3b3901dd286d",
   "metadata": {},
   "outputs": [],
   "source": [
    "codes = ['blank','background', 'object'] # remember 0 is first entry so pixels 1, 2 ,3 etc need a dummy entry for 0\n",
    "\n",
    "dblock = DataBlock(\n",
    "    blocks=(TransformBlock, MaskBlock(codes=codes)),  # Image input and auxiliary input\n",
    "    get_x=get_inputs,  # Get both the image path and the auxiliary input\n",
    "    get_y=get_target,  # Get the radius value from the dataframe\n",
    "    #splitter=RandomSplitter(valid_pct=0.2, seed=42),  # Split into train and validation sets\n",
    "    #item_tfms=Resize(512)  # Resize images to 512x512\n",
    "\n",
    ")"
   ]
  },
  {
   "cell_type": "raw",
   "id": "0f81442b-ca3e-406e-8b25-29ab63ae83be",
   "metadata": {},
   "source": [
    "Next we create the dataloader. We pass the dataframe through the datablock (also batch size)"
   ]
  },
  {
   "cell_type": "code",
   "execution_count": 22,
   "id": "aec2c691-53f8-407c-85a3-4ab521c545fb",
   "metadata": {},
   "outputs": [
    {
     "name": "stdout",
     "output_type": "stream",
     "text": [
      "torch.Size([6, 512, 512])\n",
      "torch.Size([6, 512, 512])\n"
     ]
    }
   ],
   "source": [
    "\n",
    "dls = dblock.dataloaders(df, bs=4)\n"
   ]
  },
  {
   "cell_type": "code",
   "execution_count": null,
   "id": "7601fd52-f5dd-4f6a-adf6-ded800a0e7d2",
   "metadata": {},
   "outputs": [],
   "source": [
    "# set up model "
   ]
  },
  {
   "cell_type": "code",
   "execution_count": 33,
   "id": "536e5dd7-0202-4a78-ab60-34c18f0edaa4",
   "metadata": {
    "tags": []
   },
   "outputs": [],
   "source": [
    "# Assuming your SimpleFeedForwardNN model is defined as shown before\n",
    "class Simplemodel(nn.Module):\n",
    "    def __init__(self ):\n",
    "        super(Simplemodel, self).__init__()\n",
    "        \n",
    "\n",
    "        #self.conv1  = nn.Conv1d(1, 1, kernel_size=1, stride=1, padding=1, bias=False)\n",
    "        #self.bn    = nn.BatchNorm1d(1)\n",
    "        \n",
    "\n",
    "        #self.fc3 = nn.Linear(16, 16)\n",
    "        #self.fc4 = nn.Linear(16, 16)\n",
    "        #self.fc5 = nn.Linear(16, 1)\n",
    "        self.final_weight_multi = nn.Parameter(torch.tensor(5.0))  \n",
    "        self.final_weight_add = nn.Parameter(torch.tensor(5.0))          \n",
    "\n",
    "    def forward(self, inputdata):\n",
    "\n",
    "        print(inputdata.shape)\n",
    "        \n",
    "\n",
    "\n",
    "\n",
    "        \n",
    "        #x = self.fc1(x)      \n",
    "        \n",
    "        x=1         \n",
    "        \n",
    "        return x"
   ]
  },
  {
   "cell_type": "code",
   "execution_count": 34,
   "id": "51a3f835-a955-4150-a6d1-2b59bc5ea5d5",
   "metadata": {
    "tags": []
   },
   "outputs": [],
   "source": [
    "from fastai.vision.all import *\n",
    "learn = Learner(dls, Simplemodel, metrics=Dice)"
   ]
  },
  {
   "cell_type": "code",
   "execution_count": 35,
   "id": "8a86bc42-5f54-4c44-8ef2-5b4123fd3abc",
   "metadata": {
    "tags": []
   },
   "outputs": [
    {
     "ename": "TypeError",
     "evalue": "Module.parameters() missing 1 required positional argument: 'self'",
     "output_type": "error",
     "traceback": [
      "\u001b[1;31m---------------------------------------------------------------------------\u001b[0m",
      "\u001b[1;31mTypeError\u001b[0m                                 Traceback (most recent call last)",
      "Cell \u001b[1;32mIn[35], line 1\u001b[0m\n\u001b[1;32m----> 1\u001b[0m lr_min,lr_steep \u001b[38;5;241m=\u001b[39m learn\u001b[38;5;241m.\u001b[39mlr_find(suggest_funcs\u001b[38;5;241m=\u001b[39m(minimum, steep))\n",
      "File \u001b[1;32m~\\anaconda3\\Lib\\site-packages\\fastai\\callback\\schedule.py:293\u001b[0m, in \u001b[0;36mlr_find\u001b[1;34m(self, start_lr, end_lr, num_it, stop_div, show_plot, suggest_funcs)\u001b[0m\n\u001b[0;32m    291\u001b[0m n_epoch \u001b[38;5;241m=\u001b[39m num_it\u001b[38;5;241m/\u001b[39m\u001b[38;5;241m/\u001b[39m\u001b[38;5;28mlen\u001b[39m(\u001b[38;5;28mself\u001b[39m\u001b[38;5;241m.\u001b[39mdls\u001b[38;5;241m.\u001b[39mtrain) \u001b[38;5;241m+\u001b[39m \u001b[38;5;241m1\u001b[39m\n\u001b[0;32m    292\u001b[0m cb\u001b[38;5;241m=\u001b[39mLRFinder(start_lr\u001b[38;5;241m=\u001b[39mstart_lr, end_lr\u001b[38;5;241m=\u001b[39mend_lr, num_it\u001b[38;5;241m=\u001b[39mnum_it, stop_div\u001b[38;5;241m=\u001b[39mstop_div)\n\u001b[1;32m--> 293\u001b[0m \u001b[38;5;28;01mwith\u001b[39;00m \u001b[38;5;28mself\u001b[39m\u001b[38;5;241m.\u001b[39mno_logging(): \u001b[38;5;28mself\u001b[39m\u001b[38;5;241m.\u001b[39mfit(n_epoch, cbs\u001b[38;5;241m=\u001b[39mcb)\n\u001b[0;32m    294\u001b[0m \u001b[38;5;28;01mif\u001b[39;00m suggest_funcs \u001b[38;5;129;01mis\u001b[39;00m \u001b[38;5;129;01mnot\u001b[39;00m \u001b[38;5;28;01mNone\u001b[39;00m:\n\u001b[0;32m    295\u001b[0m     lrs, losses \u001b[38;5;241m=\u001b[39m tensor(\u001b[38;5;28mself\u001b[39m\u001b[38;5;241m.\u001b[39mrecorder\u001b[38;5;241m.\u001b[39mlrs[num_it\u001b[38;5;241m/\u001b[39m\u001b[38;5;241m/\u001b[39m\u001b[38;5;241m10\u001b[39m:\u001b[38;5;241m-\u001b[39m\u001b[38;5;241m5\u001b[39m]), tensor(\u001b[38;5;28mself\u001b[39m\u001b[38;5;241m.\u001b[39mrecorder\u001b[38;5;241m.\u001b[39mlosses[num_it\u001b[38;5;241m/\u001b[39m\u001b[38;5;241m/\u001b[39m\u001b[38;5;241m10\u001b[39m:\u001b[38;5;241m-\u001b[39m\u001b[38;5;241m5\u001b[39m])\n",
      "File \u001b[1;32m~\\anaconda3\\Lib\\site-packages\\fastai\\learner.py:259\u001b[0m, in \u001b[0;36mLearner.fit\u001b[1;34m(self, n_epoch, lr, wd, cbs, reset_opt, start_epoch)\u001b[0m\n\u001b[0;32m    257\u001b[0m     cbs \u001b[38;5;241m=\u001b[39m L(cbs) \u001b[38;5;241m+\u001b[39m SkipToEpoch(start_epoch)\n\u001b[0;32m    258\u001b[0m \u001b[38;5;28;01mwith\u001b[39;00m \u001b[38;5;28mself\u001b[39m\u001b[38;5;241m.\u001b[39madded_cbs(cbs):\n\u001b[1;32m--> 259\u001b[0m     \u001b[38;5;28;01mif\u001b[39;00m reset_opt \u001b[38;5;129;01mor\u001b[39;00m \u001b[38;5;129;01mnot\u001b[39;00m \u001b[38;5;28mself\u001b[39m\u001b[38;5;241m.\u001b[39mopt: \u001b[38;5;28mself\u001b[39m\u001b[38;5;241m.\u001b[39mcreate_opt()\n\u001b[0;32m    260\u001b[0m     \u001b[38;5;28;01mif\u001b[39;00m wd \u001b[38;5;129;01mis\u001b[39;00m \u001b[38;5;28;01mNone\u001b[39;00m: wd \u001b[38;5;241m=\u001b[39m \u001b[38;5;28mself\u001b[39m\u001b[38;5;241m.\u001b[39mwd\n\u001b[0;32m    261\u001b[0m     \u001b[38;5;28;01mif\u001b[39;00m wd \u001b[38;5;129;01mis\u001b[39;00m \u001b[38;5;129;01mnot\u001b[39;00m \u001b[38;5;28;01mNone\u001b[39;00m: \u001b[38;5;28mself\u001b[39m\u001b[38;5;241m.\u001b[39mopt\u001b[38;5;241m.\u001b[39mset_hypers(wd\u001b[38;5;241m=\u001b[39mwd)\n",
      "File \u001b[1;32m~\\anaconda3\\Lib\\site-packages\\fastai\\learner.py:188\u001b[0m, in \u001b[0;36mLearner.create_opt\u001b[1;34m(self)\u001b[0m\n\u001b[0;32m    186\u001b[0m     \u001b[38;5;28mself\u001b[39m\u001b[38;5;241m.\u001b[39mopt\u001b[38;5;241m.\u001b[39mclear_state()\n\u001b[0;32m    187\u001b[0m \u001b[38;5;28;01melse\u001b[39;00m:\n\u001b[1;32m--> 188\u001b[0m     \u001b[38;5;28mself\u001b[39m\u001b[38;5;241m.\u001b[39mopt \u001b[38;5;241m=\u001b[39m \u001b[38;5;28mself\u001b[39m\u001b[38;5;241m.\u001b[39mopt_func(\u001b[38;5;28mself\u001b[39m\u001b[38;5;241m.\u001b[39msplitter(\u001b[38;5;28mself\u001b[39m\u001b[38;5;241m.\u001b[39mmodel), lr\u001b[38;5;241m=\u001b[39m\u001b[38;5;28mself\u001b[39m\u001b[38;5;241m.\u001b[39mlr)\n\u001b[0;32m    189\u001b[0m \u001b[38;5;28;01mif\u001b[39;00m \u001b[38;5;129;01mnot\u001b[39;00m \u001b[38;5;28mself\u001b[39m\u001b[38;5;241m.\u001b[39mwd_bn_bias:\n\u001b[0;32m    190\u001b[0m     \u001b[38;5;28;01mfor\u001b[39;00m p \u001b[38;5;129;01min\u001b[39;00m \u001b[38;5;28mself\u001b[39m\u001b[38;5;241m.\u001b[39m_bn_bias_state(\u001b[38;5;28;01mTrue\u001b[39;00m ): p[\u001b[38;5;124m'\u001b[39m\u001b[38;5;124mdo_wd\u001b[39m\u001b[38;5;124m'\u001b[39m] \u001b[38;5;241m=\u001b[39m \u001b[38;5;28;01mFalse\u001b[39;00m\n",
      "File \u001b[1;32m~\\anaconda3\\Lib\\site-packages\\fastai\\torch_core.py:679\u001b[0m, in \u001b[0;36mtrainable_params\u001b[1;34m(m)\u001b[0m\n\u001b[0;32m    677\u001b[0m \u001b[38;5;28;01mdef\u001b[39;00m \u001b[38;5;21mtrainable_params\u001b[39m(m):\n\u001b[0;32m    678\u001b[0m     \u001b[38;5;124m\"\u001b[39m\u001b[38;5;124mReturn all trainable parameters of `m`\u001b[39m\u001b[38;5;124m\"\u001b[39m\n\u001b[1;32m--> 679\u001b[0m     \u001b[38;5;28;01mreturn\u001b[39;00m [p \u001b[38;5;28;01mfor\u001b[39;00m p \u001b[38;5;129;01min\u001b[39;00m m\u001b[38;5;241m.\u001b[39mparameters() \u001b[38;5;28;01mif\u001b[39;00m p\u001b[38;5;241m.\u001b[39mrequires_grad]\n",
      "\u001b[1;31mTypeError\u001b[0m: Module.parameters() missing 1 required positional argument: 'self'"
     ]
    }
   ],
   "source": [
    "lr_min,lr_steep = learn.lr_find(suggest_funcs=(minimum, steep))"
   ]
  },
  {
   "cell_type": "raw",
   "id": "f5015d6a-3bd1-4ce2-9332-1000ee727b5e",
   "metadata": {},
   "source": [
    "To determin if the dataloader is working correctly we can display a number of its results using the following code. \n",
    "\n",
    "When using defult data it should show red background with blue shapes. Its ugly but apprently best for colorblindnes. \n",
    "\n",
    "A filter is displayed over the images so just adding a some extra lines so you can see what it looks like without the filter "
   ]
  },
  {
   "cell_type": "code",
   "execution_count": 19,
   "id": "9d333f59-13e9-47e6-a3e5-dc9d9a30b0bf",
   "metadata": {
    "tags": []
   },
   "outputs": [
    {
     "name": "stdout",
     "output_type": "stream",
     "text": [
      "torch.Size([3, 1024, 512])\n",
      "torch.Size([3, 1024, 512])\n",
      "torch.Size([3, 1024, 512])\n",
      "torch.Size([3, 1024, 512])\n"
     ]
    },
    {
     "ename": "AttributeError",
     "evalue": "'Tensor' object has no attribute 'show'",
     "output_type": "error",
     "traceback": [
      "\u001b[1;31m---------------------------------------------------------------------------\u001b[0m",
      "\u001b[1;31mAttributeError\u001b[0m                            Traceback (most recent call last)",
      "Cell \u001b[1;32mIn[19], line 7\u001b[0m\n\u001b[0;32m      3\u001b[0m image_data\u001b[38;5;241m.\u001b[39mshow()\n\u001b[0;32m      5\u001b[0m \u001b[38;5;66;03m#print('filtered batched data below')\u001b[39;00m\n\u001b[1;32m----> 7\u001b[0m dls\u001b[38;5;241m.\u001b[39mshow_batch()\n",
      "File \u001b[1;32m~\\anaconda3\\Lib\\site-packages\\fastai\\data\\core.py:151\u001b[0m, in \u001b[0;36mTfmdDL.show_batch\u001b[1;34m(self, b, max_n, ctxs, show, unique, **kwargs)\u001b[0m\n\u001b[0;32m    149\u001b[0m \u001b[38;5;28;01mif\u001b[39;00m b \u001b[38;5;129;01mis\u001b[39;00m \u001b[38;5;28;01mNone\u001b[39;00m: b \u001b[38;5;241m=\u001b[39m \u001b[38;5;28mself\u001b[39m\u001b[38;5;241m.\u001b[39mone_batch()\n\u001b[0;32m    150\u001b[0m \u001b[38;5;28;01mif\u001b[39;00m \u001b[38;5;129;01mnot\u001b[39;00m show: \u001b[38;5;28;01mreturn\u001b[39;00m \u001b[38;5;28mself\u001b[39m\u001b[38;5;241m.\u001b[39m_pre_show_batch(b, max_n\u001b[38;5;241m=\u001b[39mmax_n)\n\u001b[1;32m--> 151\u001b[0m show_batch(\u001b[38;5;241m*\u001b[39m\u001b[38;5;28mself\u001b[39m\u001b[38;5;241m.\u001b[39m_pre_show_batch(b, max_n\u001b[38;5;241m=\u001b[39mmax_n), ctxs\u001b[38;5;241m=\u001b[39mctxs, max_n\u001b[38;5;241m=\u001b[39mmax_n, \u001b[38;5;241m*\u001b[39m\u001b[38;5;241m*\u001b[39mkwargs)\n\u001b[0;32m    152\u001b[0m \u001b[38;5;28;01mif\u001b[39;00m unique: \u001b[38;5;28mself\u001b[39m\u001b[38;5;241m.\u001b[39mget_idxs \u001b[38;5;241m=\u001b[39m old_get_idxs\n",
      "File \u001b[1;32m~\\anaconda3\\Lib\\site-packages\\fastcore\\dispatch.py:120\u001b[0m, in \u001b[0;36mTypeDispatch.__call__\u001b[1;34m(self, *args, **kwargs)\u001b[0m\n\u001b[0;32m    118\u001b[0m \u001b[38;5;28;01melif\u001b[39;00m \u001b[38;5;28mself\u001b[39m\u001b[38;5;241m.\u001b[39minst \u001b[38;5;129;01mis\u001b[39;00m \u001b[38;5;129;01mnot\u001b[39;00m \u001b[38;5;28;01mNone\u001b[39;00m: f \u001b[38;5;241m=\u001b[39m MethodType(f, \u001b[38;5;28mself\u001b[39m\u001b[38;5;241m.\u001b[39minst)\n\u001b[0;32m    119\u001b[0m \u001b[38;5;28;01melif\u001b[39;00m \u001b[38;5;28mself\u001b[39m\u001b[38;5;241m.\u001b[39mowner \u001b[38;5;129;01mis\u001b[39;00m \u001b[38;5;129;01mnot\u001b[39;00m \u001b[38;5;28;01mNone\u001b[39;00m: f \u001b[38;5;241m=\u001b[39m MethodType(f, \u001b[38;5;28mself\u001b[39m\u001b[38;5;241m.\u001b[39mowner)\n\u001b[1;32m--> 120\u001b[0m \u001b[38;5;28;01mreturn\u001b[39;00m f(\u001b[38;5;241m*\u001b[39margs, \u001b[38;5;241m*\u001b[39m\u001b[38;5;241m*\u001b[39mkwargs)\n",
      "File \u001b[1;32m~\\anaconda3\\Lib\\site-packages\\fastai\\data\\core.py:28\u001b[0m, in \u001b[0;36mshow_batch\u001b[1;34m(x, y, samples, ctxs, max_n, **kwargs)\u001b[0m\n\u001b[0;32m     26\u001b[0m \u001b[38;5;28;01melse\u001b[39;00m:\n\u001b[0;32m     27\u001b[0m     \u001b[38;5;28;01mfor\u001b[39;00m i \u001b[38;5;129;01min\u001b[39;00m range_of(samples[\u001b[38;5;241m0\u001b[39m]):\n\u001b[1;32m---> 28\u001b[0m         ctxs \u001b[38;5;241m=\u001b[39m [b\u001b[38;5;241m.\u001b[39mshow(ctx\u001b[38;5;241m=\u001b[39mc, \u001b[38;5;241m*\u001b[39m\u001b[38;5;241m*\u001b[39mkwargs) \u001b[38;5;28;01mfor\u001b[39;00m b,c,_ \u001b[38;5;129;01min\u001b[39;00m \u001b[38;5;28mzip\u001b[39m(samples\u001b[38;5;241m.\u001b[39mitemgot(i),ctxs,\u001b[38;5;28mrange\u001b[39m(max_n))]\n\u001b[0;32m     29\u001b[0m \u001b[38;5;28;01mreturn\u001b[39;00m ctxs\n",
      "File \u001b[1;32m~\\anaconda3\\Lib\\site-packages\\fastai\\data\\core.py:28\u001b[0m, in \u001b[0;36m<listcomp>\u001b[1;34m(.0)\u001b[0m\n\u001b[0;32m     26\u001b[0m \u001b[38;5;28;01melse\u001b[39;00m:\n\u001b[0;32m     27\u001b[0m     \u001b[38;5;28;01mfor\u001b[39;00m i \u001b[38;5;129;01min\u001b[39;00m range_of(samples[\u001b[38;5;241m0\u001b[39m]):\n\u001b[1;32m---> 28\u001b[0m         ctxs \u001b[38;5;241m=\u001b[39m [b\u001b[38;5;241m.\u001b[39mshow(ctx\u001b[38;5;241m=\u001b[39mc, \u001b[38;5;241m*\u001b[39m\u001b[38;5;241m*\u001b[39mkwargs) \u001b[38;5;28;01mfor\u001b[39;00m b,c,_ \u001b[38;5;129;01min\u001b[39;00m \u001b[38;5;28mzip\u001b[39m(samples\u001b[38;5;241m.\u001b[39mitemgot(i),ctxs,\u001b[38;5;28mrange\u001b[39m(max_n))]\n\u001b[0;32m     29\u001b[0m \u001b[38;5;28;01mreturn\u001b[39;00m ctxs\n",
      "\u001b[1;31mAttributeError\u001b[0m: 'Tensor' object has no attribute 'show'"
     ]
    },
    {
     "data": {
      "image/png": "[encoded data removed]",
      "text/plain": [
       "<Figure size 500x500 with 1 Axes>"
      ]
     },
     "metadata": {},
     "output_type": "display_data"
    }
   ],
   "source": [
    "\n",
    "image_paths = df['image_path']\n",
    "image_data = PILImage.create(image_paths[4])\n",
    "image_data.show()\n",
    "\n",
    "#print('filtered batched data below')\n",
    "\n",
    "dls.show_batch()"
   ]
  },
  {
   "cell_type": "code",
   "execution_count": null,
   "id": "1cd578cf-b8e8-4048-89a1-f9e88a5c8307",
   "metadata": {
    "tags": []
   },
   "outputs": [],
   "source": []
  },
  {
   "cell_type": "raw",
   "id": "5e9b5265-0ebb-4ccf-8b75-6c5006da76eb",
   "metadata": {},
   "source": [
    "Next we setup the learner object, determine the model we will use and any additional metrics you would like to use. As we are doing imagesegmentaion we can use the unet_learner to convert the model we input into a unet model which is needed as we need to unpool the model to create the masks. \n",
    "\n",
    "For this I have chosen the resnet model resnet34, you can pick other models and if you need a more powerful model you increase the number next to resnet\n",
    "\n",
    "List of there models \n",
    "\n",
    "resnet18, resnet34, resnet50, resnet101, resnet110, resnet152, resnet164, resnet1202"
   ]
  },
  {
   "cell_type": "code",
   "execution_count": 8,
   "id": "37c87e48-e377-46ca-962c-690298afa0fe",
   "metadata": {
    "tags": []
   },
   "outputs": [],
   "source": [
    "# Create and train the learner\n",
    "learn = unet_learner(dls, resnet34, metrics=Dice)\n"
   ]
  },
  {
   "cell_type": "raw",
   "id": "60f370fe-2111-48ca-a917-d88b8f8c5dbb",
   "metadata": {},
   "source": [
    "Next we want to find the optium rate to train the model, the defualt value is generally ok most the time but we can do better with very little effort. \n",
    "\n",
    "Using the following line of code the code will attmept to autmotaclly find the optimium training speed \n",
    "\n",
    "Insert commons about interpretting the plot. \n",
    "\n",
    "guide to add images of traing speeds\n",
    "https://www.youtube.com/watch?v=TCpN2eKGrIY&ab_channel=CSKnowledgeAcademy"
   ]
  },
  {
   "cell_type": "code",
   "execution_count": 9,
   "id": "d304b8a4-0cb8-4a53-b913-d36d6f4ba7b9",
   "metadata": {
    "tags": []
   },
   "outputs": [
    {
     "data": {
      "text/html": [
       "\n",
       "<style>\n",
       "    /* Turns off some styling */\n",
       "    progress {\n",
       "        /* gets rid of default border in Firefox and Opera. */\n",
       "        border: none;\n",
       "        /* Needs to be in here for Safari polyfill so background images work as expected. */\n",
       "        background-size: auto;\n",
       "    }\n",
       "    progress:not([value]), progress:not([value])::-webkit-progress-bar {\n",
       "        background: repeating-linear-gradient(45deg, #7e7e7e, #7e7e7e 10px, #5c5c5c 10px, #5c5c5c 20px);\n",
       "    }\n",
       "    .progress-bar-interrupted, .progress-bar-interrupted::-webkit-progress-bar {\n",
       "        background: #F44336;\n",
       "    }\n",
       "</style>\n"
      ],
      "text/plain": [
       "<IPython.core.display.HTML object>"
      ]
     },
     "metadata": {},
     "output_type": "display_data"
    },
    {
     "data": {
      "text/html": [],
      "text/plain": [
       "<IPython.core.display.HTML object>"
      ]
     },
     "metadata": {},
     "output_type": "display_data"
    },
    {
     "data": {
      "image/png": "[encoded data removed]",
      "text/plain": [
       "<Figure size 640x480 with 1 Axes>"
      ]
     },
     "metadata": {},
     "output_type": "display_data"
    }
   ],
   "source": [
    "lr_min,lr_steep = learn.lr_find(suggest_funcs=(minimum, steep))"
   ]
  },
  {
   "cell_type": "raw",
   "id": "96d6d1da-7312-4c77-9b81-a3741c8a26a8",
   "metadata": {},
   "source": [
    "Running the trainer "
   ]
  },
  {
   "cell_type": "code",
   "execution_count": 10,
   "id": "62ec3f5c-4669-47a9-9a0e-5246d747b73c",
   "metadata": {
    "tags": []
   },
   "outputs": [
    {
     "data": {
      "text/html": [
       "\n",
       "<style>\n",
       "    /* Turns off some styling */\n",
       "    progress {\n",
       "        /* gets rid of default border in Firefox and Opera. */\n",
       "        border: none;\n",
       "        /* Needs to be in here for Safari polyfill so background images work as expected. */\n",
       "        background-size: auto;\n",
       "    }\n",
       "    progress:not([value]), progress:not([value])::-webkit-progress-bar {\n",
       "        background: repeating-linear-gradient(45deg, #7e7e7e, #7e7e7e 10px, #5c5c5c 10px, #5c5c5c 20px);\n",
       "    }\n",
       "    .progress-bar-interrupted, .progress-bar-interrupted::-webkit-progress-bar {\n",
       "        background: #F44336;\n",
       "    }\n",
       "</style>\n"
      ],
      "text/plain": [
       "<IPython.core.display.HTML object>"
      ]
     },
     "metadata": {},
     "output_type": "display_data"
    },
    {
     "data": {
      "text/html": [
       "<table border=\"1\" class=\"dataframe\">\n",
       "  <thead>\n",
       "    <tr style=\"text-align: left;\">\n",
       "      <th>epoch</th>\n",
       "      <th>train_loss</th>\n",
       "      <th>valid_loss</th>\n",
       "      <th>dice</th>\n",
       "      <th>time</th>\n",
       "    </tr>\n",
       "  </thead>\n",
       "  <tbody>\n",
       "    <tr>\n",
       "      <td>0</td>\n",
       "      <td>0.028701</td>\n",
       "      <td>0.002051</td>\n",
       "      <td>1.058857</td>\n",
       "      <td>00:49</td>\n",
       "    </tr>\n",
       "  </tbody>\n",
       "</table>"
      ],
      "text/plain": [
       "<IPython.core.display.HTML object>"
      ]
     },
     "metadata": {},
     "output_type": "display_data"
    },
    {
     "data": {
      "text/html": [
       "\n",
       "<style>\n",
       "    /* Turns off some styling */\n",
       "    progress {\n",
       "        /* gets rid of default border in Firefox and Opera. */\n",
       "        border: none;\n",
       "        /* Needs to be in here for Safari polyfill so background images work as expected. */\n",
       "        background-size: auto;\n",
       "    }\n",
       "    progress:not([value]), progress:not([value])::-webkit-progress-bar {\n",
       "        background: repeating-linear-gradient(45deg, #7e7e7e, #7e7e7e 10px, #5c5c5c 10px, #5c5c5c 20px);\n",
       "    }\n",
       "    .progress-bar-interrupted, .progress-bar-interrupted::-webkit-progress-bar {\n",
       "        background: #F44336;\n",
       "    }\n",
       "</style>\n"
      ],
      "text/plain": [
       "<IPython.core.display.HTML object>"
      ]
     },
     "metadata": {},
     "output_type": "display_data"
    },
    {
     "data": {
      "text/html": [
       "\n",
       "    <div>\n",
       "      <progress value='7' class='' max='10' style='width:300px; height:20px; vertical-align: middle;'></progress>\n",
       "      70.00% [7/10 05:46&lt;02:28]\n",
       "    </div>\n",
       "    \n",
       "<table border=\"1\" class=\"dataframe\">\n",
       "  <thead>\n",
       "    <tr style=\"text-align: left;\">\n",
       "      <th>epoch</th>\n",
       "      <th>train_loss</th>\n",
       "      <th>valid_loss</th>\n",
       "      <th>dice</th>\n",
       "      <th>time</th>\n",
       "    </tr>\n",
       "  </thead>\n",
       "  <tbody>\n",
       "    <tr>\n",
       "      <td>0</td>\n",
       "      <td>0.000877</td>\n",
       "      <td>0.000666</td>\n",
       "      <td>1.059126</td>\n",
       "      <td>00:50</td>\n",
       "    </tr>\n",
       "    <tr>\n",
       "      <td>1</td>\n",
       "      <td>0.000427</td>\n",
       "      <td>0.000814</td>\n",
       "      <td>1.059339</td>\n",
       "      <td>00:49</td>\n",
       "    </tr>\n",
       "    <tr>\n",
       "      <td>2</td>\n",
       "      <td>0.000175</td>\n",
       "      <td>0.000161</td>\n",
       "      <td>1.059265</td>\n",
       "      <td>00:49</td>\n",
       "    </tr>\n",
       "    <tr>\n",
       "      <td>3</td>\n",
       "      <td>0.000101</td>\n",
       "      <td>0.000084</td>\n",
       "      <td>1.059252</td>\n",
       "      <td>00:48</td>\n",
       "    </tr>\n",
       "    <tr>\n",
       "      <td>4</td>\n",
       "      <td>0.000068</td>\n",
       "      <td>0.000057</td>\n",
       "      <td>1.059257</td>\n",
       "      <td>00:48</td>\n",
       "    </tr>\n",
       "    <tr>\n",
       "      <td>5</td>\n",
       "      <td>0.000045</td>\n",
       "      <td>0.000045</td>\n",
       "      <td>1.059259</td>\n",
       "      <td>00:48</td>\n",
       "    </tr>\n",
       "    <tr>\n",
       "      <td>6</td>\n",
       "      <td>0.000038</td>\n",
       "      <td>0.000037</td>\n",
       "      <td>1.059259</td>\n",
       "      <td>00:51</td>\n",
       "    </tr>\n",
       "  </tbody>\n",
       "</table><p>\n",
       "\n",
       "    <div>\n",
       "      <progress value='69' class='' max='200' style='width:300px; height:20px; vertical-align: middle;'></progress>\n",
       "      34.50% [69/200 00:15&lt;00:29 0.0000]\n",
       "    </div>\n",
       "    "
      ],
      "text/plain": [
       "<IPython.core.display.HTML object>"
      ]
     },
     "metadata": {},
     "output_type": "display_data"
    },
    {
     "name": "stderr",
     "output_type": "stream",
     "text": [
      "\n",
      "KeyboardInterrupt\n",
      "\n"
     ]
    }
   ],
   "source": [
    "learn.fine_tune(10, base_lr=lr_steep)"
   ]
  },
  {
   "cell_type": "raw",
   "id": "20d79cdd-2bad-46ce-9f6c-3eafb1132f09",
   "metadata": {},
   "source": [
    "An important part of understanding the training process is to actually look at how the loss values change over each epoch (it using all the data points once). \n",
    "\n",
    "plot train vs validation plots \n"
   ]
  },
  {
   "cell_type": "code",
   "execution_count": 11,
   "id": "3ae5f95a-8fa2-40cc-8a4e-cbe298af3e07",
   "metadata": {
    "tags": []
   },
   "outputs": [
    {
     "name": "stdout",
     "output_type": "stream",
     "text": [
      "<bound method Recorder.plot_loss of Recorder>\n"
     ]
    },
    {
     "data": {
      "image/png": "[encoded data removed]",
      "text/plain": [
       "<Figure size 640x480 with 1 Axes>"
      ]
     },
     "metadata": {},
     "output_type": "display_data"
    }
   ],
   "source": [
    "# Plot the losses\n",
    "learn.recorder.plot_loss()\n",
    "print(learn.recorder.plot_loss)\n",
    "# Set the y-axis limits (replace with your desired limits)\n",
    "#plt.ylim(0, 5)  # sets y-axis limits \n",
    "# Show the plot with updated y-limits\n",
    "plt.show()"
   ]
  },
  {
   "cell_type": "raw",
   "id": "719bed66-58de-441c-9ac5-3a1f469bb4e7",
   "metadata": {},
   "source": [
    "Comments about loss "
   ]
  },
  {
   "cell_type": "code",
   "execution_count": null,
   "id": "a54d741b-9b88-42f5-bbea-7468508bf903",
   "metadata": {},
   "outputs": [],
   "source": []
  },
  {
   "cell_type": "raw",
   "id": "3fc28a49-7992-4796-a631-a1f239985b16",
   "metadata": {},
   "source": [
    "plotting a confusion matrix \n",
    "\n",
    "The following code will return a confusion matrix for the validation dataset. \n",
    "\n",
    "This will show what the model is getting corrent and what its getting wrong. This applies to classifiaction tasks. \n"
   ]
  },
  {
   "cell_type": "code",
   "execution_count": null,
   "id": "552835b9-0283-49e6-9c53-9281bcd15312",
   "metadata": {
    "tags": []
   },
   "outputs": [],
   "source": []
  },
  {
   "cell_type": "raw",
   "id": "5b670a03-034f-4343-a6e2-c63451d593bd",
   "metadata": {},
   "source": [
    "How to export the model for future use"
   ]
  },
  {
   "cell_type": "code",
   "execution_count": 12,
   "id": "6cf3dc0a-6948-42db-b4af-cd8d326ccd10",
   "metadata": {},
   "outputs": [],
   "source": [
    "os.chdir('segmentation')\n",
    "\n",
    "learn.export('exported_segmentation_model.pkl')\n",
    " \n"
   ]
  },
  {
   "cell_type": "raw",
   "id": "6e95b32a-3b54-4af2-abc6-7a28f669be9b",
   "metadata": {},
   "source": [
    "\n",
    "And thats it congradulations you now know how to do machine learning you can now put AI skills on your resume. The skynet is the limit. "
   ]
  },
  {
   "cell_type": "raw",
   "id": "f1e9d2db-f04c-4fe0-9195-d6788605b720",
   "metadata": {},
   "source": [
    "How to import and use as a regular function"
   ]
  },
  {
   "cell_type": "code",
   "execution_count": 15,
   "id": "f1b99a37-35f4-4fb6-bfcd-3d3822063e9a",
   "metadata": {},
   "outputs": [],
   "source": [
    "# import\n",
    "\n",
    "learn2 = load_learner('exported_segmentation_model.pkl')   # using learner2 to show its loading\n",
    "os.chdir('..')"
   ]
  },
  {
   "cell_type": "raw",
   "id": "722a3ade-9e4e-4d2e-86dd-bee95a6b3e50",
   "metadata": {},
   "source": [
    "We can now feed an image into the model and see the output \n",
    "\n",
    "The actual predicted mask can be found in the zeroth position of the tuple  \n"
   ]
  },
  {
   "cell_type": "code",
   "execution_count": 30,
   "id": "bed34252-d90c-411d-86d8-95a7b2c2543d",
   "metadata": {
    "tags": []
   },
   "outputs": [
    {
     "data": {
      "text/html": [
       "\n",
       "<style>\n",
       "    /* Turns off some styling */\n",
       "    progress {\n",
       "        /* gets rid of default border in Firefox and Opera. */\n",
       "        border: none;\n",
       "        /* Needs to be in here for Safari polyfill so background images work as expected. */\n",
       "        background-size: auto;\n",
       "    }\n",
       "    progress:not([value]), progress:not([value])::-webkit-progress-bar {\n",
       "        background: repeating-linear-gradient(45deg, #7e7e7e, #7e7e7e 10px, #5c5c5c 10px, #5c5c5c 20px);\n",
       "    }\n",
       "    .progress-bar-interrupted, .progress-bar-interrupted::-webkit-progress-bar {\n",
       "        background: #F44336;\n",
       "    }\n",
       "</style>\n"
      ],
      "text/plain": [
       "<IPython.core.display.HTML object>"
      ]
     },
     "metadata": {},
     "output_type": "display_data"
    },
    {
     "data": {
      "text/html": [],
      "text/plain": [
       "<IPython.core.display.HTML object>"
      ]
     },
     "metadata": {},
     "output_type": "display_data"
    },
    {
     "name": "stdout",
     "output_type": "stream",
     "text": [
      "torch.Size([512, 512])\n",
      "<class 'tuple'>\n"
     ]
    },
    {
     "data": {
      "image/png": "[encoded data removed]",
      "text/plain": [
       "<Figure size 500x500 with 1 Axes>"
      ]
     },
     "metadata": {},
     "output_type": "display_data"
    }
   ],
   "source": [
    "# just getting a random image from df\n",
    "image_paths = df['image_path']\n",
    "image_data = PILImage.create(image_paths[4])\n",
    "prediction = learn2.predict(image_data)\n",
    "\n",
    "\n",
    "prediction[0].show()\n",
    "print(prediction[0].shape)\n",
    "print(type(prediction))"
   ]
  },
  {
   "cell_type": "code",
   "execution_count": null,
   "id": "455f60bd-3a66-48f6-ad92-3ff28f0b72f0",
   "metadata": {
    "tags": []
   },
   "outputs": [],
   "source": [
    "image_data.show()"
   ]
  }
 ],
 "metadata": {
  "kernelspec": {
   "display_name": "Python 3 (ipykernel)",
   "language": "python",
   "name": "python3"
  },
  "language_info": {
   "codemirror_mode": {
    "name": "ipython",
    "version": 3
   },
   "file_extension": ".py",
   "mimetype": "text/x-python",
   "name": "python",
   "nbconvert_exporter": "python",
   "pygments_lexer": "ipython3",
   "version": "3.11.5"
  }
 },
 "nbformat": 4,
 "nbformat_minor": 5
}
